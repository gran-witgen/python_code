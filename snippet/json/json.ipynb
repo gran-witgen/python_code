{
 "cells": [
  {
   "cell_type": "markdown",
   "metadata": {},
   "source": [
    "標準モジュールのjsonを扱う"
   ]
  },
  {
   "cell_type": "code",
   "execution_count": 1,
   "metadata": {
    "collapsed": true
   },
   "outputs": [],
   "source": [
    "import json"
   ]
  },
  {
   "cell_type": "markdown",
   "metadata": {},
   "source": [
    "jsonは以下のような書式を取る"
   ]
  },
  {
   "cell_type": "markdown",
   "metadata": {},
   "source": [
    "```python\n",
    "{\n",
    "    \"student\":\n",
    "        [\n",
    "            {\"number\":1, \"name\":\"a\"},\n",
    "            {\"number\":2, \"name\":\"b\"}\n",
    "        ]\n",
    "}\n",
    "```"
   ]
  },
  {
   "cell_type": "code",
   "execution_count": 2,
   "metadata": {},
   "outputs": [
    {
     "name": "stdout",
     "output_type": "stream",
     "text": [
      "<class 'dict'> {'student': [{'number': 1, 'name': 'a'}, {'number': 2, 'name': 'b'}]}\n"
     ]
    }
   ],
   "source": [
    "j = {\n",
    "    \"student\":\n",
    "        [\n",
    "            {\"number\":1, \"name\":\"a\"},\n",
    "            {\"number\":2, \"name\":\"b\"}\n",
    "        ]\n",
    "}\n",
    "print(type(j),j)"
   ]
  },
  {
   "cell_type": "markdown",
   "metadata": {},
   "source": [
    "現状だとjはdict型のデータ  \n",
    "これをjsonにするには以下を行う"
   ]
  },
  {
   "cell_type": "code",
   "execution_count": 3,
   "metadata": {},
   "outputs": [
    {
     "name": "stdout",
     "output_type": "stream",
     "text": [
      "{\"student\": [{\"number\": 1, \"name\": \"a\"}, {\"number\": 2, \"name\": \"b\"}]}\n"
     ]
    }
   ],
   "source": [
    "print(json.dumps(j))"
   ]
  },
  {
   "cell_type": "markdown",
   "metadata": {},
   "source": [
    "Pythonのdict型をjson形式にするには →　json.dumps()"
   ]
  },
  {
   "cell_type": "markdown",
   "metadata": {},
   "source": [
    "ファイルへ書き込むときはjson.dump()に変化することに注意"
   ]
  },
  {
   "cell_type": "code",
   "execution_count": 5,
   "metadata": {
    "collapsed": true
   },
   "outputs": [],
   "source": [
    "with open(\"test.json\",\"w\",encoding=\"utf-8\") as f:\n",
    "    \n",
    "    #jをfへ書き込む\n",
    "    json.dump(j,f)"
   ]
  },
  {
   "cell_type": "markdown",
   "metadata": {},
   "source": [
    "ファイルを読み込むときは以下のようにする  \n",
    "json.load()を利用する"
   ]
  },
  {
   "cell_type": "code",
   "execution_count": 7,
   "metadata": {},
   "outputs": [
    {
     "name": "stdout",
     "output_type": "stream",
     "text": [
      "{'student': [{'number': 1, 'name': 'a'}, {'number': 2, 'name': 'b'}]}\n"
     ]
    }
   ],
   "source": [
    "with open(\"test.json\",\"r\",encoding=\"utf-8\") as f:\n",
    "    print(json.load(f))"
   ]
  },
  {
   "cell_type": "markdown",
   "metadata": {},
   "source": [
    "Pythonのコード内でjson形式をdict型へ変えたい場合  \n",
    "json.loads()を利用する"
   ]
  },
  {
   "cell_type": "code",
   "execution_count": 9,
   "metadata": {},
   "outputs": [
    {
     "name": "stdout",
     "output_type": "stream",
     "text": [
      "{\"student\": [{\"number\": 1, \"name\": \"a\"}, {\"number\": 2, \"name\": \"b\"}]}\n",
      "<class 'str'>\n"
     ]
    }
   ],
   "source": [
    "result = json.dumps(j)\n",
    "print(result)\n",
    "print(type(result))"
   ]
  },
  {
   "cell_type": "code",
   "execution_count": 10,
   "metadata": {},
   "outputs": [
    {
     "name": "stdout",
     "output_type": "stream",
     "text": [
      "<class 'dict'>\n",
      "{'student': [{'number': 1, 'name': 'a'}, {'number': 2, 'name': 'b'}]}\n"
     ]
    }
   ],
   "source": [
    "dict_to_json = json.loads(result)\n",
    "print(type(dict_to_json))\n",
    "print(dict_to_json)"
   ]
  },
  {
   "cell_type": "code",
   "execution_count": null,
   "metadata": {
    "collapsed": true
   },
   "outputs": [],
   "source": []
  }
 ],
 "metadata": {
  "kernelspec": {
   "display_name": "Python 3",
   "language": "python",
   "name": "python3"
  },
  "language_info": {
   "codemirror_mode": {
    "name": "ipython",
    "version": 3
   },
   "file_extension": ".py",
   "mimetype": "text/x-python",
   "name": "python",
   "nbconvert_exporter": "python",
   "pygments_lexer": "ipython3",
   "version": "3.6.3"
  }
 },
 "nbformat": 4,
 "nbformat_minor": 2
}
