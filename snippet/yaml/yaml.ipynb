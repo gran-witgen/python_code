{
 "cells": [
  {
   "cell_type": "code",
   "execution_count": 2,
   "metadata": {},
   "outputs": [
    {
     "data": {
      "text/plain": [
       "'\\nweb_server:\\n  host:127.0.0.1\\n  port:80\\n    \\ndb_server:\\n  host:127.0.0.1\\n  port:3306\\n'"
      ]
     },
     "execution_count": 2,
     "metadata": {},
     "output_type": "execute_result"
    }
   ],
   "source": [
    "#example of yaml\n",
    "#notice:use space two not tab\n",
    "\n",
    "\"\"\"\n",
    "web_server:\n",
    "  host:127.0.0.1\n",
    "  port:80\n",
    "    \n",
    "db_server:\n",
    "  host:127.0.0.1\n",
    "  port:3306\n",
    "\"\"\""
   ]
  },
  {
   "cell_type": "code",
   "execution_count": 5,
   "metadata": {
    "collapsed": true
   },
   "outputs": [],
   "source": [
    "import yaml\n",
    "\n",
    "#上記の設定をconfig.ymlに書き込む\n",
    "with open(\"config.yml\",\"w\") as yaml_file:\n",
    "    yaml.dump(\n",
    "        {\n",
    "            \"web_server\":{\n",
    "                \"host\":\"127.0.01\",\n",
    "                \"port\":80\n",
    "            },\n",
    "            \"db_server\":{\n",
    "                \"host\":\"127.0.0.1\",\n",
    "                \"port\":3306\n",
    "            }#①dumpする場合、書き込む設定の後にyaml_fileを指定する②default_flow_style=Falseを指定すると、作成するconfig.ymlの書式が見やすく\n",
    "        },yaml_file, default_flow_style=False\n",
    "    )"
   ]
  },
  {
   "cell_type": "markdown",
   "metadata": {},
   "source": [
    "config.ymlを読み込む場合"
   ]
  },
  {
   "cell_type": "code",
   "execution_count": 7,
   "metadata": {},
   "outputs": [
    {
     "name": "stdout",
     "output_type": "stream",
     "text": [
      "{'db_server': {'host': '127.0.0.1', 'port': 3306}, 'web_server': {'host': '127.0.01', 'port': 80}}\n",
      "127.0.0.1\n"
     ]
    }
   ],
   "source": [
    "with open(\"config.yml\",\"r\") as yaml_file:\n",
    "    data = yaml.load(yaml_file)\n",
    "    print(data)\n",
    "    print(data[\"db_server\"][\"host\"])"
   ]
  }
 ],
 "metadata": {
  "kernelspec": {
   "display_name": "Python 3",
   "language": "python",
   "name": "python3"
  },
  "language_info": {
   "codemirror_mode": {
    "name": "ipython",
    "version": 3
   },
   "file_extension": ".py",
   "mimetype": "text/x-python",
   "name": "python",
   "nbconvert_exporter": "python",
   "pygments_lexer": "ipython3",
   "version": "3.6.3"
  }
 },
 "nbformat": 4,
 "nbformat_minor": 2
}
