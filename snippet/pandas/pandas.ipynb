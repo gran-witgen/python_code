{
 "cells": [
  {
   "cell_type": "code",
   "execution_count": 4,
   "metadata": {},
   "outputs": [
    {
     "name": "stdout",
     "output_type": "stream",
     "text": [
      "Requirement already satisfied: pandas in c:\\users\\user\\anaconda3\\lib\\site-packages\n",
      "Requirement already satisfied: python-dateutil>=2 in c:\\users\\user\\anaconda3\\lib\\site-packages (from pandas)\n",
      "Requirement already satisfied: pytz>=2011k in c:\\users\\user\\anaconda3\\lib\\site-packages (from pandas)\n",
      "Requirement already satisfied: numpy>=1.7.0 in c:\\users\\user\\anaconda3\\lib\\site-packages (from pandas)\n",
      "Requirement already satisfied: six>=1.5 in c:\\users\\user\\anaconda3\\lib\\site-packages (from python-dateutil>=2->pandas)\n"
     ]
    },
    {
     "name": "stderr",
     "output_type": "stream",
     "text": [
      "You are using pip version 9.0.1, however version 10.0.1 is available.\n",
      "You should consider upgrading via the 'python -m pip install --upgrade pip' command.\n"
     ]
    }
   ],
   "source": [
    "!pip install pandas"
   ]
  },
  {
   "cell_type": "code",
   "execution_count": 5,
   "metadata": {
    "collapsed": true
   },
   "outputs": [],
   "source": [
    "import numpy as np\n",
    "import pandas as pd"
   ]
  },
  {
   "cell_type": "markdown",
   "metadata": {},
   "source": [
    "一次元の配列を作る"
   ]
  },
  {
   "cell_type": "code",
   "execution_count": 6,
   "metadata": {},
   "outputs": [
    {
     "data": {
      "text/plain": [
       "0    1.0\n",
       "1    2.0\n",
       "2    NaN\n",
       "dtype: float64"
      ]
     },
     "execution_count": 6,
     "metadata": {},
     "output_type": "execute_result"
    }
   ],
   "source": [
    "s = pd.Series([1,2,np.nan])\n",
    "s"
   ]
  },
  {
   "cell_type": "markdown",
   "metadata": {},
   "source": [
    "PythonやNumpyと同様、インデックスを利用して値を取り出すことができる"
   ]
  },
  {
   "cell_type": "code",
   "execution_count": 7,
   "metadata": {},
   "outputs": [
    {
     "data": {
      "text/plain": [
       "1.0"
      ]
     },
     "execution_count": 7,
     "metadata": {},
     "output_type": "execute_result"
    }
   ],
   "source": [
    "s[0]"
   ]
  },
  {
   "cell_type": "markdown",
   "metadata": {},
   "source": [
    "合計値なども可能"
   ]
  },
  {
   "cell_type": "code",
   "execution_count": 8,
   "metadata": {},
   "outputs": [
    {
     "data": {
      "text/plain": [
       "3.0"
      ]
     },
     "execution_count": 8,
     "metadata": {},
     "output_type": "execute_result"
    }
   ],
   "source": [
    "s.sum()"
   ]
  },
  {
   "cell_type": "markdown",
   "metadata": {},
   "source": [
    "二次元のリストをつくる"
   ]
  },
  {
   "cell_type": "code",
   "execution_count": 10,
   "metadata": {},
   "outputs": [
    {
     "data": {
      "text/html": [
       "<div>\n",
       "<style>\n",
       "    .dataframe thead tr:only-child th {\n",
       "        text-align: right;\n",
       "    }\n",
       "\n",
       "    .dataframe thead th {\n",
       "        text-align: left;\n",
       "    }\n",
       "\n",
       "    .dataframe tbody tr th {\n",
       "        vertical-align: top;\n",
       "    }\n",
       "</style>\n",
       "<table border=\"1\" class=\"dataframe\">\n",
       "  <thead>\n",
       "    <tr style=\"text-align: right;\">\n",
       "      <th></th>\n",
       "      <th>A</th>\n",
       "      <th>B</th>\n",
       "    </tr>\n",
       "  </thead>\n",
       "  <tbody>\n",
       "    <tr>\n",
       "      <th>0</th>\n",
       "      <td>1</td>\n",
       "      <td>3</td>\n",
       "    </tr>\n",
       "    <tr>\n",
       "      <th>1</th>\n",
       "      <td>2</td>\n",
       "      <td>4</td>\n",
       "    </tr>\n",
       "  </tbody>\n",
       "</table>\n",
       "</div>"
      ],
      "text/plain": [
       "   A  B\n",
       "0  1  3\n",
       "1  2  4"
      ]
     },
     "execution_count": 10,
     "metadata": {},
     "output_type": "execute_result"
    }
   ],
   "source": [
    "df = pd.DataFrame({\n",
    "    \"A\":[1,2],\n",
    "    \"B\":[3,4]\n",
    "})\n",
    "#pd.DataFrame({\"A\":[a,2],\"B\":[3,4]})\n",
    "df"
   ]
  },
  {
   "cell_type": "markdown",
   "metadata": {},
   "source": [
    "データのタイプを調べる"
   ]
  },
  {
   "cell_type": "code",
   "execution_count": 12,
   "metadata": {},
   "outputs": [
    {
     "data": {
      "text/plain": [
       "A    int64\n",
       "B    int64\n",
       "dtype: object"
      ]
     },
     "execution_count": 12,
     "metadata": {},
     "output_type": "execute_result"
    }
   ],
   "source": [
    "df.dtypes"
   ]
  },
  {
   "cell_type": "markdown",
   "metadata": {},
   "source": [
    "numpyのrandom.randnを使ってみる"
   ]
  },
  {
   "cell_type": "code",
   "execution_count": 13,
   "metadata": {},
   "outputs": [
    {
     "data": {
      "text/html": [
       "<div>\n",
       "<style>\n",
       "    .dataframe thead tr:only-child th {\n",
       "        text-align: right;\n",
       "    }\n",
       "\n",
       "    .dataframe thead th {\n",
       "        text-align: left;\n",
       "    }\n",
       "\n",
       "    .dataframe tbody tr th {\n",
       "        vertical-align: top;\n",
       "    }\n",
       "</style>\n",
       "<table border=\"1\" class=\"dataframe\">\n",
       "  <thead>\n",
       "    <tr style=\"text-align: right;\">\n",
       "      <th></th>\n",
       "      <th>0</th>\n",
       "      <th>1</th>\n",
       "      <th>2</th>\n",
       "      <th>3</th>\n",
       "    </tr>\n",
       "  </thead>\n",
       "  <tbody>\n",
       "    <tr>\n",
       "      <th>0</th>\n",
       "      <td>-1.318680</td>\n",
       "      <td>-1.718359</td>\n",
       "      <td>-0.437137</td>\n",
       "      <td>-0.650320</td>\n",
       "    </tr>\n",
       "    <tr>\n",
       "      <th>1</th>\n",
       "      <td>-1.158011</td>\n",
       "      <td>0.606800</td>\n",
       "      <td>-0.968614</td>\n",
       "      <td>-1.524670</td>\n",
       "    </tr>\n",
       "    <tr>\n",
       "      <th>2</th>\n",
       "      <td>-2.141570</td>\n",
       "      <td>-2.055722</td>\n",
       "      <td>1.235505</td>\n",
       "      <td>-0.087734</td>\n",
       "    </tr>\n",
       "    <tr>\n",
       "      <th>3</th>\n",
       "      <td>-0.353556</td>\n",
       "      <td>-1.464645</td>\n",
       "      <td>2.188662</td>\n",
       "      <td>0.296071</td>\n",
       "    </tr>\n",
       "    <tr>\n",
       "      <th>4</th>\n",
       "      <td>0.751706</td>\n",
       "      <td>-0.859606</td>\n",
       "      <td>0.261257</td>\n",
       "      <td>0.103587</td>\n",
       "    </tr>\n",
       "    <tr>\n",
       "      <th>5</th>\n",
       "      <td>-0.261683</td>\n",
       "      <td>0.362569</td>\n",
       "      <td>-0.721059</td>\n",
       "      <td>-0.743896</td>\n",
       "    </tr>\n",
       "  </tbody>\n",
       "</table>\n",
       "</div>"
      ],
      "text/plain": [
       "          0         1         2         3\n",
       "0 -1.318680 -1.718359 -0.437137 -0.650320\n",
       "1 -1.158011  0.606800 -0.968614 -1.524670\n",
       "2 -2.141570 -2.055722  1.235505 -0.087734\n",
       "3 -0.353556 -1.464645  2.188662  0.296071\n",
       "4  0.751706 -0.859606  0.261257  0.103587\n",
       "5 -0.261683  0.362569 -0.721059 -0.743896"
      ]
     },
     "execution_count": 13,
     "metadata": {},
     "output_type": "execute_result"
    }
   ],
   "source": [
    "df = pd.DataFrame(np.random.randn(6,4))\n",
    "df"
   ]
  },
  {
   "cell_type": "markdown",
   "metadata": {},
   "source": [
    "インデックスの表示を変える"
   ]
  },
  {
   "cell_type": "code",
   "execution_count": 18,
   "metadata": {},
   "outputs": [
    {
     "data": {
      "text/html": [
       "<div>\n",
       "<style>\n",
       "    .dataframe thead tr:only-child th {\n",
       "        text-align: right;\n",
       "    }\n",
       "\n",
       "    .dataframe thead th {\n",
       "        text-align: left;\n",
       "    }\n",
       "\n",
       "    .dataframe tbody tr th {\n",
       "        vertical-align: top;\n",
       "    }\n",
       "</style>\n",
       "<table border=\"1\" class=\"dataframe\">\n",
       "  <thead>\n",
       "    <tr style=\"text-align: right;\">\n",
       "      <th></th>\n",
       "      <th>0</th>\n",
       "      <th>1</th>\n",
       "      <th>2</th>\n",
       "      <th>3</th>\n",
       "    </tr>\n",
       "  </thead>\n",
       "  <tbody>\n",
       "    <tr>\n",
       "      <th>2018-06-19</th>\n",
       "      <td>1.746349</td>\n",
       "      <td>1.575836</td>\n",
       "      <td>-0.440470</td>\n",
       "      <td>-0.356865</td>\n",
       "    </tr>\n",
       "    <tr>\n",
       "      <th>2018-06-20</th>\n",
       "      <td>-0.911363</td>\n",
       "      <td>-0.458024</td>\n",
       "      <td>0.003614</td>\n",
       "      <td>0.290241</td>\n",
       "    </tr>\n",
       "    <tr>\n",
       "      <th>2018-06-21</th>\n",
       "      <td>-1.160585</td>\n",
       "      <td>-2.307277</td>\n",
       "      <td>-0.349011</td>\n",
       "      <td>0.920853</td>\n",
       "    </tr>\n",
       "    <tr>\n",
       "      <th>2018-06-22</th>\n",
       "      <td>0.548991</td>\n",
       "      <td>-0.035466</td>\n",
       "      <td>0.749575</td>\n",
       "      <td>-0.418116</td>\n",
       "    </tr>\n",
       "    <tr>\n",
       "      <th>2018-06-23</th>\n",
       "      <td>0.208058</td>\n",
       "      <td>0.284163</td>\n",
       "      <td>0.586649</td>\n",
       "      <td>0.505229</td>\n",
       "    </tr>\n",
       "    <tr>\n",
       "      <th>2018-06-24</th>\n",
       "      <td>-1.297698</td>\n",
       "      <td>-2.454652</td>\n",
       "      <td>-0.167001</td>\n",
       "      <td>-0.209573</td>\n",
       "    </tr>\n",
       "  </tbody>\n",
       "</table>\n",
       "</div>"
      ],
      "text/plain": [
       "                   0         1         2         3\n",
       "2018-06-19  1.746349  1.575836 -0.440470 -0.356865\n",
       "2018-06-20 -0.911363 -0.458024  0.003614  0.290241\n",
       "2018-06-21 -1.160585 -2.307277 -0.349011  0.920853\n",
       "2018-06-22  0.548991 -0.035466  0.749575 -0.418116\n",
       "2018-06-23  0.208058  0.284163  0.586649  0.505229\n",
       "2018-06-24 -1.297698 -2.454652 -0.167001 -0.209573"
      ]
     },
     "execution_count": 18,
     "metadata": {},
     "output_type": "execute_result"
    }
   ],
   "source": [
    "df = pd.DataFrame(np.random.randn(6,4),index=pd.date_range(\"20180619\",periods=6))\n",
    "#pd.date_range(始まり、期間)\n",
    "df"
   ]
  },
  {
   "cell_type": "markdown",
   "metadata": {},
   "source": [
    "さらにカラムの表示をかえる"
   ]
  },
  {
   "cell_type": "code",
   "execution_count": 25,
   "metadata": {},
   "outputs": [
    {
     "data": {
      "text/html": [
       "<div>\n",
       "<style>\n",
       "    .dataframe thead tr:only-child th {\n",
       "        text-align: right;\n",
       "    }\n",
       "\n",
       "    .dataframe thead th {\n",
       "        text-align: left;\n",
       "    }\n",
       "\n",
       "    .dataframe tbody tr th {\n",
       "        vertical-align: top;\n",
       "    }\n",
       "</style>\n",
       "<table border=\"1\" class=\"dataframe\">\n",
       "  <thead>\n",
       "    <tr style=\"text-align: right;\">\n",
       "      <th></th>\n",
       "      <th>A</th>\n",
       "      <th>B</th>\n",
       "      <th>C</th>\n",
       "      <th>D</th>\n",
       "    </tr>\n",
       "  </thead>\n",
       "  <tbody>\n",
       "    <tr>\n",
       "      <th>2018-06-19</th>\n",
       "      <td>0.234911</td>\n",
       "      <td>-0.676922</td>\n",
       "      <td>0.360823</td>\n",
       "      <td>0.153287</td>\n",
       "    </tr>\n",
       "    <tr>\n",
       "      <th>2018-06-20</th>\n",
       "      <td>0.498731</td>\n",
       "      <td>0.528086</td>\n",
       "      <td>-0.367213</td>\n",
       "      <td>1.403734</td>\n",
       "    </tr>\n",
       "    <tr>\n",
       "      <th>2018-06-21</th>\n",
       "      <td>0.715894</td>\n",
       "      <td>-2.639517</td>\n",
       "      <td>-0.392039</td>\n",
       "      <td>0.284107</td>\n",
       "    </tr>\n",
       "    <tr>\n",
       "      <th>2018-06-22</th>\n",
       "      <td>1.739656</td>\n",
       "      <td>-0.271450</td>\n",
       "      <td>0.982952</td>\n",
       "      <td>0.483135</td>\n",
       "    </tr>\n",
       "    <tr>\n",
       "      <th>2018-06-23</th>\n",
       "      <td>-0.264658</td>\n",
       "      <td>0.393662</td>\n",
       "      <td>-1.309515</td>\n",
       "      <td>-1.254700</td>\n",
       "    </tr>\n",
       "    <tr>\n",
       "      <th>2018-06-24</th>\n",
       "      <td>0.880432</td>\n",
       "      <td>0.278362</td>\n",
       "      <td>1.929638</td>\n",
       "      <td>0.468512</td>\n",
       "    </tr>\n",
       "  </tbody>\n",
       "</table>\n",
       "</div>"
      ],
      "text/plain": [
       "                   A         B         C         D\n",
       "2018-06-19  0.234911 -0.676922  0.360823  0.153287\n",
       "2018-06-20  0.498731  0.528086 -0.367213  1.403734\n",
       "2018-06-21  0.715894 -2.639517 -0.392039  0.284107\n",
       "2018-06-22  1.739656 -0.271450  0.982952  0.483135\n",
       "2018-06-23 -0.264658  0.393662 -1.309515 -1.254700\n",
       "2018-06-24  0.880432  0.278362  1.929638  0.468512"
      ]
     },
     "execution_count": 25,
     "metadata": {},
     "output_type": "execute_result"
    }
   ],
   "source": [
    "df = pd.DataFrame(np.random.randn(6,4),index=pd.date_range(\"20180619\",periods=6),columns=[\"A\",\"B\",\"C\",\"D\"])\n",
    "#pd.date_range(始まり、期間)\n",
    "df"
   ]
  },
  {
   "cell_type": "markdown",
   "metadata": {},
   "source": [
    "行を取り出す"
   ]
  },
  {
   "cell_type": "markdown",
   "metadata": {},
   "source": [
    "以下だと行の一番目を取り出す"
   ]
  },
  {
   "cell_type": "code",
   "execution_count": 27,
   "metadata": {},
   "outputs": [
    {
     "data": {
      "text/html": [
       "<div>\n",
       "<style>\n",
       "    .dataframe thead tr:only-child th {\n",
       "        text-align: right;\n",
       "    }\n",
       "\n",
       "    .dataframe thead th {\n",
       "        text-align: left;\n",
       "    }\n",
       "\n",
       "    .dataframe tbody tr th {\n",
       "        vertical-align: top;\n",
       "    }\n",
       "</style>\n",
       "<table border=\"1\" class=\"dataframe\">\n",
       "  <thead>\n",
       "    <tr style=\"text-align: right;\">\n",
       "      <th></th>\n",
       "      <th>A</th>\n",
       "      <th>B</th>\n",
       "      <th>C</th>\n",
       "      <th>D</th>\n",
       "    </tr>\n",
       "  </thead>\n",
       "  <tbody>\n",
       "    <tr>\n",
       "      <th>2018-06-19</th>\n",
       "      <td>0.234911</td>\n",
       "      <td>-0.676922</td>\n",
       "      <td>0.360823</td>\n",
       "      <td>0.153287</td>\n",
       "    </tr>\n",
       "  </tbody>\n",
       "</table>\n",
       "</div>"
      ],
      "text/plain": [
       "                   A         B         C         D\n",
       "2018-06-19  0.234911 -0.676922  0.360823  0.153287"
      ]
     },
     "execution_count": 27,
     "metadata": {},
     "output_type": "execute_result"
    }
   ],
   "source": [
    "df.head(1)"
   ]
  },
  {
   "cell_type": "markdown",
   "metadata": {},
   "source": [
    "下のデータを見たい場合、以下のようにする"
   ]
  },
  {
   "cell_type": "markdown",
   "metadata": {},
   "source": [
    "下から2つ分のデータを見たいとき"
   ]
  },
  {
   "cell_type": "code",
   "execution_count": 30,
   "metadata": {},
   "outputs": [
    {
     "data": {
      "text/html": [
       "<div>\n",
       "<style>\n",
       "    .dataframe thead tr:only-child th {\n",
       "        text-align: right;\n",
       "    }\n",
       "\n",
       "    .dataframe thead th {\n",
       "        text-align: left;\n",
       "    }\n",
       "\n",
       "    .dataframe tbody tr th {\n",
       "        vertical-align: top;\n",
       "    }\n",
       "</style>\n",
       "<table border=\"1\" class=\"dataframe\">\n",
       "  <thead>\n",
       "    <tr style=\"text-align: right;\">\n",
       "      <th></th>\n",
       "      <th>A</th>\n",
       "      <th>B</th>\n",
       "      <th>C</th>\n",
       "      <th>D</th>\n",
       "    </tr>\n",
       "  </thead>\n",
       "  <tbody>\n",
       "    <tr>\n",
       "      <th>2018-06-23</th>\n",
       "      <td>-0.264658</td>\n",
       "      <td>0.393662</td>\n",
       "      <td>-1.309515</td>\n",
       "      <td>-1.254700</td>\n",
       "    </tr>\n",
       "    <tr>\n",
       "      <th>2018-06-24</th>\n",
       "      <td>0.880432</td>\n",
       "      <td>0.278362</td>\n",
       "      <td>1.929638</td>\n",
       "      <td>0.468512</td>\n",
       "    </tr>\n",
       "  </tbody>\n",
       "</table>\n",
       "</div>"
      ],
      "text/plain": [
       "                   A         B         C         D\n",
       "2018-06-23 -0.264658  0.393662 -1.309515 -1.254700\n",
       "2018-06-24  0.880432  0.278362  1.929638  0.468512"
      ]
     },
     "execution_count": 30,
     "metadata": {},
     "output_type": "execute_result"
    }
   ],
   "source": [
    "df.tail(2)"
   ]
  },
  {
   "cell_type": "markdown",
   "metadata": {},
   "source": [
    "インデックス部分のみを表示する"
   ]
  },
  {
   "cell_type": "code",
   "execution_count": 31,
   "metadata": {},
   "outputs": [
    {
     "data": {
      "text/plain": [
       "DatetimeIndex(['2018-06-19', '2018-06-20', '2018-06-21', '2018-06-22',\n",
       "               '2018-06-23', '2018-06-24'],\n",
       "              dtype='datetime64[ns]', freq='D')"
      ]
     },
     "execution_count": 31,
     "metadata": {},
     "output_type": "execute_result"
    }
   ],
   "source": [
    "df.index"
   ]
  },
  {
   "cell_type": "markdown",
   "metadata": {},
   "source": [
    "反対にカラムを見たりする"
   ]
  },
  {
   "cell_type": "code",
   "execution_count": 32,
   "metadata": {},
   "outputs": [
    {
     "data": {
      "text/plain": [
       "Index(['A', 'B', 'C', 'D'], dtype='object')"
      ]
     },
     "execution_count": 32,
     "metadata": {},
     "output_type": "execute_result"
    }
   ],
   "source": [
    "df.columns"
   ]
  },
  {
   "cell_type": "markdown",
   "metadata": {},
   "source": [
    "データの値のみを取り出す"
   ]
  },
  {
   "cell_type": "code",
   "execution_count": 33,
   "metadata": {},
   "outputs": [
    {
     "data": {
      "text/plain": [
       "array([[ 0.23491129, -0.67692223,  0.36082342,  0.15328654],\n",
       "       [ 0.49873125,  0.52808577, -0.36721306,  1.40373383],\n",
       "       [ 0.71589388, -2.63951685, -0.39203879,  0.28410668],\n",
       "       [ 1.73965641, -0.27145004,  0.98295238,  0.48313467],\n",
       "       [-0.26465778,  0.39366229, -1.30951479, -1.25469972],\n",
       "       [ 0.8804317 ,  0.27836186,  1.92963758,  0.46851176]])"
      ]
     },
     "execution_count": 33,
     "metadata": {},
     "output_type": "execute_result"
    }
   ],
   "source": [
    "df.values"
   ]
  },
  {
   "cell_type": "markdown",
   "metadata": {},
   "source": [
    "データ全体を表示する"
   ]
  },
  {
   "cell_type": "code",
   "execution_count": 35,
   "metadata": {},
   "outputs": [
    {
     "data": {
      "text/html": [
       "<div>\n",
       "<style>\n",
       "    .dataframe thead tr:only-child th {\n",
       "        text-align: right;\n",
       "    }\n",
       "\n",
       "    .dataframe thead th {\n",
       "        text-align: left;\n",
       "    }\n",
       "\n",
       "    .dataframe tbody tr th {\n",
       "        vertical-align: top;\n",
       "    }\n",
       "</style>\n",
       "<table border=\"1\" class=\"dataframe\">\n",
       "  <thead>\n",
       "    <tr style=\"text-align: right;\">\n",
       "      <th></th>\n",
       "      <th>A</th>\n",
       "      <th>B</th>\n",
       "      <th>C</th>\n",
       "      <th>D</th>\n",
       "    </tr>\n",
       "  </thead>\n",
       "  <tbody>\n",
       "    <tr>\n",
       "      <th>count</th>\n",
       "      <td>6.000000</td>\n",
       "      <td>6.000000</td>\n",
       "      <td>6.000000</td>\n",
       "      <td>6.000000</td>\n",
       "    </tr>\n",
       "    <tr>\n",
       "      <th>mean</th>\n",
       "      <td>0.634161</td>\n",
       "      <td>-0.397963</td>\n",
       "      <td>0.200774</td>\n",
       "      <td>0.256346</td>\n",
       "    </tr>\n",
       "    <tr>\n",
       "      <th>std</th>\n",
       "      <td>0.674547</td>\n",
       "      <td>1.188279</td>\n",
       "      <td>1.147292</td>\n",
       "      <td>0.861115</td>\n",
       "    </tr>\n",
       "    <tr>\n",
       "      <th>min</th>\n",
       "      <td>-0.264658</td>\n",
       "      <td>-2.639517</td>\n",
       "      <td>-1.309515</td>\n",
       "      <td>-1.254700</td>\n",
       "    </tr>\n",
       "    <tr>\n",
       "      <th>25%</th>\n",
       "      <td>0.300866</td>\n",
       "      <td>-0.575554</td>\n",
       "      <td>-0.385832</td>\n",
       "      <td>0.185992</td>\n",
       "    </tr>\n",
       "    <tr>\n",
       "      <th>50%</th>\n",
       "      <td>0.607313</td>\n",
       "      <td>0.003456</td>\n",
       "      <td>-0.003195</td>\n",
       "      <td>0.376309</td>\n",
       "    </tr>\n",
       "    <tr>\n",
       "      <th>75%</th>\n",
       "      <td>0.839297</td>\n",
       "      <td>0.364837</td>\n",
       "      <td>0.827420</td>\n",
       "      <td>0.479479</td>\n",
       "    </tr>\n",
       "    <tr>\n",
       "      <th>max</th>\n",
       "      <td>1.739656</td>\n",
       "      <td>0.528086</td>\n",
       "      <td>1.929638</td>\n",
       "      <td>1.403734</td>\n",
       "    </tr>\n",
       "  </tbody>\n",
       "</table>\n",
       "</div>"
      ],
      "text/plain": [
       "              A         B         C         D\n",
       "count  6.000000  6.000000  6.000000  6.000000\n",
       "mean   0.634161 -0.397963  0.200774  0.256346\n",
       "std    0.674547  1.188279  1.147292  0.861115\n",
       "min   -0.264658 -2.639517 -1.309515 -1.254700\n",
       "25%    0.300866 -0.575554 -0.385832  0.185992\n",
       "50%    0.607313  0.003456 -0.003195  0.376309\n",
       "75%    0.839297  0.364837  0.827420  0.479479\n",
       "max    1.739656  0.528086  1.929638  1.403734"
      ]
     },
     "execution_count": 35,
     "metadata": {},
     "output_type": "execute_result"
    }
   ],
   "source": [
    "df.describe()"
   ]
  },
  {
   "cell_type": "markdown",
   "metadata": {},
   "source": [
    "Numpyと同様、転置もある"
   ]
  },
  {
   "cell_type": "code",
   "execution_count": 36,
   "metadata": {},
   "outputs": [
    {
     "data": {
      "text/html": [
       "<div>\n",
       "<style>\n",
       "    .dataframe thead tr:only-child th {\n",
       "        text-align: right;\n",
       "    }\n",
       "\n",
       "    .dataframe thead th {\n",
       "        text-align: left;\n",
       "    }\n",
       "\n",
       "    .dataframe tbody tr th {\n",
       "        vertical-align: top;\n",
       "    }\n",
       "</style>\n",
       "<table border=\"1\" class=\"dataframe\">\n",
       "  <thead>\n",
       "    <tr style=\"text-align: right;\">\n",
       "      <th></th>\n",
       "      <th>2018-06-19 00:00:00</th>\n",
       "      <th>2018-06-20 00:00:00</th>\n",
       "      <th>2018-06-21 00:00:00</th>\n",
       "      <th>2018-06-22 00:00:00</th>\n",
       "      <th>2018-06-23 00:00:00</th>\n",
       "      <th>2018-06-24 00:00:00</th>\n",
       "    </tr>\n",
       "  </thead>\n",
       "  <tbody>\n",
       "    <tr>\n",
       "      <th>A</th>\n",
       "      <td>0.234911</td>\n",
       "      <td>0.498731</td>\n",
       "      <td>0.715894</td>\n",
       "      <td>1.739656</td>\n",
       "      <td>-0.264658</td>\n",
       "      <td>0.880432</td>\n",
       "    </tr>\n",
       "    <tr>\n",
       "      <th>B</th>\n",
       "      <td>-0.676922</td>\n",
       "      <td>0.528086</td>\n",
       "      <td>-2.639517</td>\n",
       "      <td>-0.271450</td>\n",
       "      <td>0.393662</td>\n",
       "      <td>0.278362</td>\n",
       "    </tr>\n",
       "    <tr>\n",
       "      <th>C</th>\n",
       "      <td>0.360823</td>\n",
       "      <td>-0.367213</td>\n",
       "      <td>-0.392039</td>\n",
       "      <td>0.982952</td>\n",
       "      <td>-1.309515</td>\n",
       "      <td>1.929638</td>\n",
       "    </tr>\n",
       "    <tr>\n",
       "      <th>D</th>\n",
       "      <td>0.153287</td>\n",
       "      <td>1.403734</td>\n",
       "      <td>0.284107</td>\n",
       "      <td>0.483135</td>\n",
       "      <td>-1.254700</td>\n",
       "      <td>0.468512</td>\n",
       "    </tr>\n",
       "  </tbody>\n",
       "</table>\n",
       "</div>"
      ],
      "text/plain": [
       "   2018-06-19  2018-06-20  2018-06-21  2018-06-22  2018-06-23  2018-06-24\n",
       "A    0.234911    0.498731    0.715894    1.739656   -0.264658    0.880432\n",
       "B   -0.676922    0.528086   -2.639517   -0.271450    0.393662    0.278362\n",
       "C    0.360823   -0.367213   -0.392039    0.982952   -1.309515    1.929638\n",
       "D    0.153287    1.403734    0.284107    0.483135   -1.254700    0.468512"
      ]
     },
     "execution_count": 36,
     "metadata": {},
     "output_type": "execute_result"
    }
   ],
   "source": [
    "df.T"
   ]
  },
  {
   "cell_type": "markdown",
   "metadata": {},
   "source": [
    "カラムを指定してソートする"
   ]
  },
  {
   "cell_type": "code",
   "execution_count": 37,
   "metadata": {},
   "outputs": [
    {
     "data": {
      "text/html": [
       "<div>\n",
       "<style>\n",
       "    .dataframe thead tr:only-child th {\n",
       "        text-align: right;\n",
       "    }\n",
       "\n",
       "    .dataframe thead th {\n",
       "        text-align: left;\n",
       "    }\n",
       "\n",
       "    .dataframe tbody tr th {\n",
       "        vertical-align: top;\n",
       "    }\n",
       "</style>\n",
       "<table border=\"1\" class=\"dataframe\">\n",
       "  <thead>\n",
       "    <tr style=\"text-align: right;\">\n",
       "      <th></th>\n",
       "      <th>A</th>\n",
       "      <th>B</th>\n",
       "      <th>C</th>\n",
       "      <th>D</th>\n",
       "    </tr>\n",
       "  </thead>\n",
       "  <tbody>\n",
       "    <tr>\n",
       "      <th>2018-06-23</th>\n",
       "      <td>-0.264658</td>\n",
       "      <td>0.393662</td>\n",
       "      <td>-1.309515</td>\n",
       "      <td>-1.254700</td>\n",
       "    </tr>\n",
       "    <tr>\n",
       "      <th>2018-06-19</th>\n",
       "      <td>0.234911</td>\n",
       "      <td>-0.676922</td>\n",
       "      <td>0.360823</td>\n",
       "      <td>0.153287</td>\n",
       "    </tr>\n",
       "    <tr>\n",
       "      <th>2018-06-20</th>\n",
       "      <td>0.498731</td>\n",
       "      <td>0.528086</td>\n",
       "      <td>-0.367213</td>\n",
       "      <td>1.403734</td>\n",
       "    </tr>\n",
       "    <tr>\n",
       "      <th>2018-06-21</th>\n",
       "      <td>0.715894</td>\n",
       "      <td>-2.639517</td>\n",
       "      <td>-0.392039</td>\n",
       "      <td>0.284107</td>\n",
       "    </tr>\n",
       "    <tr>\n",
       "      <th>2018-06-24</th>\n",
       "      <td>0.880432</td>\n",
       "      <td>0.278362</td>\n",
       "      <td>1.929638</td>\n",
       "      <td>0.468512</td>\n",
       "    </tr>\n",
       "    <tr>\n",
       "      <th>2018-06-22</th>\n",
       "      <td>1.739656</td>\n",
       "      <td>-0.271450</td>\n",
       "      <td>0.982952</td>\n",
       "      <td>0.483135</td>\n",
       "    </tr>\n",
       "  </tbody>\n",
       "</table>\n",
       "</div>"
      ],
      "text/plain": [
       "                   A         B         C         D\n",
       "2018-06-23 -0.264658  0.393662 -1.309515 -1.254700\n",
       "2018-06-19  0.234911 -0.676922  0.360823  0.153287\n",
       "2018-06-20  0.498731  0.528086 -0.367213  1.403734\n",
       "2018-06-21  0.715894 -2.639517 -0.392039  0.284107\n",
       "2018-06-24  0.880432  0.278362  1.929638  0.468512\n",
       "2018-06-22  1.739656 -0.271450  0.982952  0.483135"
      ]
     },
     "execution_count": 37,
     "metadata": {},
     "output_type": "execute_result"
    }
   ],
   "source": [
    "df.sort_values(by=\"A\")"
   ]
  },
  {
   "cell_type": "markdown",
   "metadata": {},
   "source": [
    "スライスのように、要素を取り出すことができる"
   ]
  },
  {
   "cell_type": "code",
   "execution_count": 38,
   "metadata": {},
   "outputs": [
    {
     "data": {
      "text/html": [
       "<div>\n",
       "<style>\n",
       "    .dataframe thead tr:only-child th {\n",
       "        text-align: right;\n",
       "    }\n",
       "\n",
       "    .dataframe thead th {\n",
       "        text-align: left;\n",
       "    }\n",
       "\n",
       "    .dataframe tbody tr th {\n",
       "        vertical-align: top;\n",
       "    }\n",
       "</style>\n",
       "<table border=\"1\" class=\"dataframe\">\n",
       "  <thead>\n",
       "    <tr style=\"text-align: right;\">\n",
       "      <th></th>\n",
       "      <th>A</th>\n",
       "      <th>B</th>\n",
       "      <th>C</th>\n",
       "      <th>D</th>\n",
       "    </tr>\n",
       "  </thead>\n",
       "  <tbody>\n",
       "    <tr>\n",
       "      <th>2018-06-19</th>\n",
       "      <td>0.234911</td>\n",
       "      <td>-0.676922</td>\n",
       "      <td>0.360823</td>\n",
       "      <td>0.153287</td>\n",
       "    </tr>\n",
       "    <tr>\n",
       "      <th>2018-06-20</th>\n",
       "      <td>0.498731</td>\n",
       "      <td>0.528086</td>\n",
       "      <td>-0.367213</td>\n",
       "      <td>1.403734</td>\n",
       "    </tr>\n",
       "    <tr>\n",
       "      <th>2018-06-21</th>\n",
       "      <td>0.715894</td>\n",
       "      <td>-2.639517</td>\n",
       "      <td>-0.392039</td>\n",
       "      <td>0.284107</td>\n",
       "    </tr>\n",
       "    <tr>\n",
       "      <th>2018-06-22</th>\n",
       "      <td>1.739656</td>\n",
       "      <td>-0.271450</td>\n",
       "      <td>0.982952</td>\n",
       "      <td>0.483135</td>\n",
       "    </tr>\n",
       "  </tbody>\n",
       "</table>\n",
       "</div>"
      ],
      "text/plain": [
       "                   A         B         C         D\n",
       "2018-06-19  0.234911 -0.676922  0.360823  0.153287\n",
       "2018-06-20  0.498731  0.528086 -0.367213  1.403734\n",
       "2018-06-21  0.715894 -2.639517 -0.392039  0.284107\n",
       "2018-06-22  1.739656 -0.271450  0.982952  0.483135"
      ]
     },
     "execution_count": 38,
     "metadata": {},
     "output_type": "execute_result"
    }
   ],
   "source": [
    "df[0:4]"
   ]
  },
  {
   "cell_type": "markdown",
   "metadata": {},
   "source": [
    "スライスと似た感じで、取り出す範囲の日付指定ができる"
   ]
  },
  {
   "cell_type": "code",
   "execution_count": 42,
   "metadata": {},
   "outputs": [
    {
     "data": {
      "text/html": [
       "<div>\n",
       "<style>\n",
       "    .dataframe thead tr:only-child th {\n",
       "        text-align: right;\n",
       "    }\n",
       "\n",
       "    .dataframe thead th {\n",
       "        text-align: left;\n",
       "    }\n",
       "\n",
       "    .dataframe tbody tr th {\n",
       "        vertical-align: top;\n",
       "    }\n",
       "</style>\n",
       "<table border=\"1\" class=\"dataframe\">\n",
       "  <thead>\n",
       "    <tr style=\"text-align: right;\">\n",
       "      <th></th>\n",
       "      <th>A</th>\n",
       "      <th>B</th>\n",
       "      <th>C</th>\n",
       "      <th>D</th>\n",
       "    </tr>\n",
       "  </thead>\n",
       "  <tbody>\n",
       "    <tr>\n",
       "      <th>2018-06-20</th>\n",
       "      <td>0.498731</td>\n",
       "      <td>0.528086</td>\n",
       "      <td>-0.367213</td>\n",
       "      <td>1.403734</td>\n",
       "    </tr>\n",
       "    <tr>\n",
       "      <th>2018-06-21</th>\n",
       "      <td>0.715894</td>\n",
       "      <td>-2.639517</td>\n",
       "      <td>-0.392039</td>\n",
       "      <td>0.284107</td>\n",
       "    </tr>\n",
       "    <tr>\n",
       "      <th>2018-06-22</th>\n",
       "      <td>1.739656</td>\n",
       "      <td>-0.271450</td>\n",
       "      <td>0.982952</td>\n",
       "      <td>0.483135</td>\n",
       "    </tr>\n",
       "  </tbody>\n",
       "</table>\n",
       "</div>"
      ],
      "text/plain": [
       "                   A         B         C         D\n",
       "2018-06-20  0.498731  0.528086 -0.367213  1.403734\n",
       "2018-06-21  0.715894 -2.639517 -0.392039  0.284107\n",
       "2018-06-22  1.739656 -0.271450  0.982952  0.483135"
      ]
     },
     "execution_count": 42,
     "metadata": {},
     "output_type": "execute_result"
    }
   ],
   "source": [
    "df[\"2018-06-20\":\"2018-06-22\"]"
   ]
  },
  {
   "cell_type": "markdown",
   "metadata": {},
   "source": [
    "行を指定して、値を取り出す"
   ]
  },
  {
   "cell_type": "code",
   "execution_count": 43,
   "metadata": {},
   "outputs": [
    {
     "data": {
      "text/plain": [
       "A    0.234911\n",
       "B   -0.676922\n",
       "C    0.360823\n",
       "D    0.153287\n",
       "Name: 2018-06-19 00:00:00, dtype: float64"
      ]
     },
     "execution_count": 43,
     "metadata": {},
     "output_type": "execute_result"
    }
   ],
   "source": [
    "df.loc[\"2018-06-19\"]"
   ]
  },
  {
   "cell_type": "markdown",
   "metadata": {},
   "source": [
    "行を指定した後に、カラムを指定すると、特定の値を取得できる"
   ]
  },
  {
   "cell_type": "code",
   "execution_count": 45,
   "metadata": {},
   "outputs": [
    {
     "data": {
      "text/plain": [
       "A    0.234911\n",
       "C    0.360823\n",
       "Name: 2018-06-19 00:00:00, dtype: float64"
      ]
     },
     "execution_count": 45,
     "metadata": {},
     "output_type": "execute_result"
    }
   ],
   "source": [
    "df.loc[\"2018-06-19\",[\"A\",\"C\"]]"
   ]
  },
  {
   "cell_type": "markdown",
   "metadata": {},
   "source": [
    "上記のこととスライスを利用して、特定の期間の値を取得できる"
   ]
  },
  {
   "cell_type": "code",
   "execution_count": 47,
   "metadata": {},
   "outputs": [
    {
     "data": {
      "text/html": [
       "<div>\n",
       "<style>\n",
       "    .dataframe thead tr:only-child th {\n",
       "        text-align: right;\n",
       "    }\n",
       "\n",
       "    .dataframe thead th {\n",
       "        text-align: left;\n",
       "    }\n",
       "\n",
       "    .dataframe tbody tr th {\n",
       "        vertical-align: top;\n",
       "    }\n",
       "</style>\n",
       "<table border=\"1\" class=\"dataframe\">\n",
       "  <thead>\n",
       "    <tr style=\"text-align: right;\">\n",
       "      <th></th>\n",
       "      <th>A</th>\n",
       "      <th>C</th>\n",
       "    </tr>\n",
       "  </thead>\n",
       "  <tbody>\n",
       "    <tr>\n",
       "      <th>2018-06-19</th>\n",
       "      <td>0.234911</td>\n",
       "      <td>0.360823</td>\n",
       "    </tr>\n",
       "    <tr>\n",
       "      <th>2018-06-20</th>\n",
       "      <td>0.498731</td>\n",
       "      <td>-0.367213</td>\n",
       "    </tr>\n",
       "    <tr>\n",
       "      <th>2018-06-21</th>\n",
       "      <td>0.715894</td>\n",
       "      <td>-0.392039</td>\n",
       "    </tr>\n",
       "    <tr>\n",
       "      <th>2018-06-22</th>\n",
       "      <td>1.739656</td>\n",
       "      <td>0.982952</td>\n",
       "    </tr>\n",
       "  </tbody>\n",
       "</table>\n",
       "</div>"
      ],
      "text/plain": [
       "                   A         C\n",
       "2018-06-19  0.234911  0.360823\n",
       "2018-06-20  0.498731 -0.367213\n",
       "2018-06-21  0.715894 -0.392039\n",
       "2018-06-22  1.739656  0.982952"
      ]
     },
     "execution_count": 47,
     "metadata": {},
     "output_type": "execute_result"
    }
   ],
   "source": [
    "df.loc[\"2018-06-19\":\"2018-06-22\",[\"A\",\"C\"]]"
   ]
  },
  {
   "cell_type": "markdown",
   "metadata": {},
   "source": [
    "全ての値を取り出したいときは、:を利用する"
   ]
  },
  {
   "cell_type": "code",
   "execution_count": 48,
   "metadata": {},
   "outputs": [
    {
     "data": {
      "text/html": [
       "<div>\n",
       "<style>\n",
       "    .dataframe thead tr:only-child th {\n",
       "        text-align: right;\n",
       "    }\n",
       "\n",
       "    .dataframe thead th {\n",
       "        text-align: left;\n",
       "    }\n",
       "\n",
       "    .dataframe tbody tr th {\n",
       "        vertical-align: top;\n",
       "    }\n",
       "</style>\n",
       "<table border=\"1\" class=\"dataframe\">\n",
       "  <thead>\n",
       "    <tr style=\"text-align: right;\">\n",
       "      <th></th>\n",
       "      <th>A</th>\n",
       "      <th>C</th>\n",
       "    </tr>\n",
       "  </thead>\n",
       "  <tbody>\n",
       "    <tr>\n",
       "      <th>2018-06-19</th>\n",
       "      <td>0.234911</td>\n",
       "      <td>0.360823</td>\n",
       "    </tr>\n",
       "    <tr>\n",
       "      <th>2018-06-20</th>\n",
       "      <td>0.498731</td>\n",
       "      <td>-0.367213</td>\n",
       "    </tr>\n",
       "    <tr>\n",
       "      <th>2018-06-21</th>\n",
       "      <td>0.715894</td>\n",
       "      <td>-0.392039</td>\n",
       "    </tr>\n",
       "    <tr>\n",
       "      <th>2018-06-22</th>\n",
       "      <td>1.739656</td>\n",
       "      <td>0.982952</td>\n",
       "    </tr>\n",
       "    <tr>\n",
       "      <th>2018-06-23</th>\n",
       "      <td>-0.264658</td>\n",
       "      <td>-1.309515</td>\n",
       "    </tr>\n",
       "    <tr>\n",
       "      <th>2018-06-24</th>\n",
       "      <td>0.880432</td>\n",
       "      <td>1.929638</td>\n",
       "    </tr>\n",
       "  </tbody>\n",
       "</table>\n",
       "</div>"
      ],
      "text/plain": [
       "                   A         C\n",
       "2018-06-19  0.234911  0.360823\n",
       "2018-06-20  0.498731 -0.367213\n",
       "2018-06-21  0.715894 -0.392039\n",
       "2018-06-22  1.739656  0.982952\n",
       "2018-06-23 -0.264658 -1.309515\n",
       "2018-06-24  0.880432  1.929638"
      ]
     },
     "execution_count": 48,
     "metadata": {},
     "output_type": "execute_result"
    }
   ],
   "source": [
    "df.loc[:,[\"A\",\"C\"]]"
   ]
  },
  {
   "cell_type": "markdown",
   "metadata": {},
   "source": [
    "df.locではなく、df.ilocで指定もできる"
   ]
  },
  {
   "cell_type": "code",
   "execution_count": 50,
   "metadata": {},
   "outputs": [
    {
     "data": {
      "text/html": [
       "<div>\n",
       "<style>\n",
       "    .dataframe thead tr:only-child th {\n",
       "        text-align: right;\n",
       "    }\n",
       "\n",
       "    .dataframe thead th {\n",
       "        text-align: left;\n",
       "    }\n",
       "\n",
       "    .dataframe tbody tr th {\n",
       "        vertical-align: top;\n",
       "    }\n",
       "</style>\n",
       "<table border=\"1\" class=\"dataframe\">\n",
       "  <thead>\n",
       "    <tr style=\"text-align: right;\">\n",
       "      <th></th>\n",
       "      <th>A</th>\n",
       "      <th>B</th>\n",
       "      <th>C</th>\n",
       "    </tr>\n",
       "  </thead>\n",
       "  <tbody>\n",
       "    <tr>\n",
       "      <th>2018-06-19</th>\n",
       "      <td>0.234911</td>\n",
       "      <td>-0.676922</td>\n",
       "      <td>0.360823</td>\n",
       "    </tr>\n",
       "    <tr>\n",
       "      <th>2018-06-20</th>\n",
       "      <td>0.498731</td>\n",
       "      <td>0.528086</td>\n",
       "      <td>-0.367213</td>\n",
       "    </tr>\n",
       "    <tr>\n",
       "      <th>2018-06-21</th>\n",
       "      <td>0.715894</td>\n",
       "      <td>-2.639517</td>\n",
       "      <td>-0.392039</td>\n",
       "    </tr>\n",
       "  </tbody>\n",
       "</table>\n",
       "</div>"
      ],
      "text/plain": [
       "                   A         B         C\n",
       "2018-06-19  0.234911 -0.676922  0.360823\n",
       "2018-06-20  0.498731  0.528086 -0.367213\n",
       "2018-06-21  0.715894 -2.639517 -0.392039"
      ]
     },
     "execution_count": 50,
     "metadata": {},
     "output_type": "execute_result"
    }
   ],
   "source": [
    "df.iloc[0:3,0:3]"
   ]
  },
  {
   "cell_type": "markdown",
   "metadata": {},
   "source": [
    "ちょっとした条件式を使うことができる  \n",
    "以下は、0より大きいものを表示する"
   ]
  },
  {
   "cell_type": "code",
   "execution_count": 51,
   "metadata": {},
   "outputs": [
    {
     "data": {
      "text/html": [
       "<div>\n",
       "<style>\n",
       "    .dataframe thead tr:only-child th {\n",
       "        text-align: right;\n",
       "    }\n",
       "\n",
       "    .dataframe thead th {\n",
       "        text-align: left;\n",
       "    }\n",
       "\n",
       "    .dataframe tbody tr th {\n",
       "        vertical-align: top;\n",
       "    }\n",
       "</style>\n",
       "<table border=\"1\" class=\"dataframe\">\n",
       "  <thead>\n",
       "    <tr style=\"text-align: right;\">\n",
       "      <th></th>\n",
       "      <th>A</th>\n",
       "      <th>B</th>\n",
       "      <th>C</th>\n",
       "      <th>D</th>\n",
       "    </tr>\n",
       "  </thead>\n",
       "  <tbody>\n",
       "    <tr>\n",
       "      <th>2018-06-19</th>\n",
       "      <td>0.234911</td>\n",
       "      <td>NaN</td>\n",
       "      <td>0.360823</td>\n",
       "      <td>0.153287</td>\n",
       "    </tr>\n",
       "    <tr>\n",
       "      <th>2018-06-20</th>\n",
       "      <td>0.498731</td>\n",
       "      <td>0.528086</td>\n",
       "      <td>NaN</td>\n",
       "      <td>1.403734</td>\n",
       "    </tr>\n",
       "    <tr>\n",
       "      <th>2018-06-21</th>\n",
       "      <td>0.715894</td>\n",
       "      <td>NaN</td>\n",
       "      <td>NaN</td>\n",
       "      <td>0.284107</td>\n",
       "    </tr>\n",
       "    <tr>\n",
       "      <th>2018-06-22</th>\n",
       "      <td>1.739656</td>\n",
       "      <td>NaN</td>\n",
       "      <td>0.982952</td>\n",
       "      <td>0.483135</td>\n",
       "    </tr>\n",
       "    <tr>\n",
       "      <th>2018-06-23</th>\n",
       "      <td>NaN</td>\n",
       "      <td>0.393662</td>\n",
       "      <td>NaN</td>\n",
       "      <td>NaN</td>\n",
       "    </tr>\n",
       "    <tr>\n",
       "      <th>2018-06-24</th>\n",
       "      <td>0.880432</td>\n",
       "      <td>0.278362</td>\n",
       "      <td>1.929638</td>\n",
       "      <td>0.468512</td>\n",
       "    </tr>\n",
       "  </tbody>\n",
       "</table>\n",
       "</div>"
      ],
      "text/plain": [
       "                   A         B         C         D\n",
       "2018-06-19  0.234911       NaN  0.360823  0.153287\n",
       "2018-06-20  0.498731  0.528086       NaN  1.403734\n",
       "2018-06-21  0.715894       NaN       NaN  0.284107\n",
       "2018-06-22  1.739656       NaN  0.982952  0.483135\n",
       "2018-06-23       NaN  0.393662       NaN       NaN\n",
       "2018-06-24  0.880432  0.278362  1.929638  0.468512"
      ]
     },
     "execution_count": 51,
     "metadata": {},
     "output_type": "execute_result"
    }
   ],
   "source": [
    "df[df > 0]"
   ]
  },
  {
   "cell_type": "markdown",
   "metadata": {},
   "source": [
    "条件に合わないものはNaNで表示される"
   ]
  },
  {
   "cell_type": "markdown",
   "metadata": {},
   "source": [
    "次はCで0より大きいものを表示する"
   ]
  },
  {
   "cell_type": "code",
   "execution_count": 53,
   "metadata": {},
   "outputs": [
    {
     "data": {
      "text/html": [
       "<div>\n",
       "<style>\n",
       "    .dataframe thead tr:only-child th {\n",
       "        text-align: right;\n",
       "    }\n",
       "\n",
       "    .dataframe thead th {\n",
       "        text-align: left;\n",
       "    }\n",
       "\n",
       "    .dataframe tbody tr th {\n",
       "        vertical-align: top;\n",
       "    }\n",
       "</style>\n",
       "<table border=\"1\" class=\"dataframe\">\n",
       "  <thead>\n",
       "    <tr style=\"text-align: right;\">\n",
       "      <th></th>\n",
       "      <th>A</th>\n",
       "      <th>B</th>\n",
       "      <th>C</th>\n",
       "      <th>D</th>\n",
       "    </tr>\n",
       "  </thead>\n",
       "  <tbody>\n",
       "    <tr>\n",
       "      <th>2018-06-19</th>\n",
       "      <td>0.234911</td>\n",
       "      <td>-0.676922</td>\n",
       "      <td>0.360823</td>\n",
       "      <td>0.153287</td>\n",
       "    </tr>\n",
       "    <tr>\n",
       "      <th>2018-06-22</th>\n",
       "      <td>1.739656</td>\n",
       "      <td>-0.271450</td>\n",
       "      <td>0.982952</td>\n",
       "      <td>0.483135</td>\n",
       "    </tr>\n",
       "    <tr>\n",
       "      <th>2018-06-24</th>\n",
       "      <td>0.880432</td>\n",
       "      <td>0.278362</td>\n",
       "      <td>1.929638</td>\n",
       "      <td>0.468512</td>\n",
       "    </tr>\n",
       "  </tbody>\n",
       "</table>\n",
       "</div>"
      ],
      "text/plain": [
       "                   A         B         C         D\n",
       "2018-06-19  0.234911 -0.676922  0.360823  0.153287\n",
       "2018-06-22  1.739656 -0.271450  0.982952  0.483135\n",
       "2018-06-24  0.880432  0.278362  1.929638  0.468512"
      ]
     },
     "execution_count": 53,
     "metadata": {},
     "output_type": "execute_result"
    }
   ],
   "source": [
    "df[df.C > 0]"
   ]
  },
  {
   "cell_type": "markdown",
   "metadata": {},
   "source": [
    "Cで0より大きいものが表示されることが分かる"
   ]
  },
  {
   "cell_type": "markdown",
   "metadata": {},
   "source": [
    "データフレームのコピーを作る"
   ]
  },
  {
   "cell_type": "code",
   "execution_count": 55,
   "metadata": {
    "collapsed": true
   },
   "outputs": [],
   "source": [
    "df2 = df.copy()"
   ]
  },
  {
   "cell_type": "markdown",
   "metadata": {},
   "source": [
    "新しくカラムを追加する  \n",
    "適当に値を入力する"
   ]
  },
  {
   "cell_type": "code",
   "execution_count": 56,
   "metadata": {
    "collapsed": true
   },
   "outputs": [],
   "source": [
    "df2[\"E\"] = [\"1\",\"1\",\"3\",\"5\",\"7\",\"10\"]"
   ]
  },
  {
   "cell_type": "code",
   "execution_count": 57,
   "metadata": {},
   "outputs": [
    {
     "data": {
      "text/html": [
       "<div>\n",
       "<style>\n",
       "    .dataframe thead tr:only-child th {\n",
       "        text-align: right;\n",
       "    }\n",
       "\n",
       "    .dataframe thead th {\n",
       "        text-align: left;\n",
       "    }\n",
       "\n",
       "    .dataframe tbody tr th {\n",
       "        vertical-align: top;\n",
       "    }\n",
       "</style>\n",
       "<table border=\"1\" class=\"dataframe\">\n",
       "  <thead>\n",
       "    <tr style=\"text-align: right;\">\n",
       "      <th></th>\n",
       "      <th>A</th>\n",
       "      <th>B</th>\n",
       "      <th>C</th>\n",
       "      <th>D</th>\n",
       "      <th>E</th>\n",
       "    </tr>\n",
       "  </thead>\n",
       "  <tbody>\n",
       "    <tr>\n",
       "      <th>2018-06-19</th>\n",
       "      <td>0.234911</td>\n",
       "      <td>-0.676922</td>\n",
       "      <td>0.360823</td>\n",
       "      <td>0.153287</td>\n",
       "      <td>1</td>\n",
       "    </tr>\n",
       "    <tr>\n",
       "      <th>2018-06-20</th>\n",
       "      <td>0.498731</td>\n",
       "      <td>0.528086</td>\n",
       "      <td>-0.367213</td>\n",
       "      <td>1.403734</td>\n",
       "      <td>1</td>\n",
       "    </tr>\n",
       "    <tr>\n",
       "      <th>2018-06-21</th>\n",
       "      <td>0.715894</td>\n",
       "      <td>-2.639517</td>\n",
       "      <td>-0.392039</td>\n",
       "      <td>0.284107</td>\n",
       "      <td>3</td>\n",
       "    </tr>\n",
       "    <tr>\n",
       "      <th>2018-06-22</th>\n",
       "      <td>1.739656</td>\n",
       "      <td>-0.271450</td>\n",
       "      <td>0.982952</td>\n",
       "      <td>0.483135</td>\n",
       "      <td>5</td>\n",
       "    </tr>\n",
       "    <tr>\n",
       "      <th>2018-06-23</th>\n",
       "      <td>-0.264658</td>\n",
       "      <td>0.393662</td>\n",
       "      <td>-1.309515</td>\n",
       "      <td>-1.254700</td>\n",
       "      <td>7</td>\n",
       "    </tr>\n",
       "    <tr>\n",
       "      <th>2018-06-24</th>\n",
       "      <td>0.880432</td>\n",
       "      <td>0.278362</td>\n",
       "      <td>1.929638</td>\n",
       "      <td>0.468512</td>\n",
       "      <td>10</td>\n",
       "    </tr>\n",
       "  </tbody>\n",
       "</table>\n",
       "</div>"
      ],
      "text/plain": [
       "                   A         B         C         D   E\n",
       "2018-06-19  0.234911 -0.676922  0.360823  0.153287   1\n",
       "2018-06-20  0.498731  0.528086 -0.367213  1.403734   1\n",
       "2018-06-21  0.715894 -2.639517 -0.392039  0.284107   3\n",
       "2018-06-22  1.739656 -0.271450  0.982952  0.483135   5\n",
       "2018-06-23 -0.264658  0.393662 -1.309515 -1.254700   7\n",
       "2018-06-24  0.880432  0.278362  1.929638  0.468512  10"
      ]
     },
     "execution_count": 57,
     "metadata": {},
     "output_type": "execute_result"
    }
   ],
   "source": [
    "df2"
   ]
  },
  {
   "cell_type": "markdown",
   "metadata": {},
   "source": [
    "in　演算子のような使い方もできる  \n",
    "Eのカラムで値が1または5の行を取り出す"
   ]
  },
  {
   "cell_type": "code",
   "execution_count": 59,
   "metadata": {},
   "outputs": [
    {
     "data": {
      "text/html": [
       "<div>\n",
       "<style>\n",
       "    .dataframe thead tr:only-child th {\n",
       "        text-align: right;\n",
       "    }\n",
       "\n",
       "    .dataframe thead th {\n",
       "        text-align: left;\n",
       "    }\n",
       "\n",
       "    .dataframe tbody tr th {\n",
       "        vertical-align: top;\n",
       "    }\n",
       "</style>\n",
       "<table border=\"1\" class=\"dataframe\">\n",
       "  <thead>\n",
       "    <tr style=\"text-align: right;\">\n",
       "      <th></th>\n",
       "      <th>A</th>\n",
       "      <th>B</th>\n",
       "      <th>C</th>\n",
       "      <th>D</th>\n",
       "      <th>E</th>\n",
       "    </tr>\n",
       "  </thead>\n",
       "  <tbody>\n",
       "    <tr>\n",
       "      <th>2018-06-19</th>\n",
       "      <td>0.234911</td>\n",
       "      <td>-0.676922</td>\n",
       "      <td>0.360823</td>\n",
       "      <td>0.153287</td>\n",
       "      <td>1</td>\n",
       "    </tr>\n",
       "    <tr>\n",
       "      <th>2018-06-20</th>\n",
       "      <td>0.498731</td>\n",
       "      <td>0.528086</td>\n",
       "      <td>-0.367213</td>\n",
       "      <td>1.403734</td>\n",
       "      <td>1</td>\n",
       "    </tr>\n",
       "    <tr>\n",
       "      <th>2018-06-22</th>\n",
       "      <td>1.739656</td>\n",
       "      <td>-0.271450</td>\n",
       "      <td>0.982952</td>\n",
       "      <td>0.483135</td>\n",
       "      <td>5</td>\n",
       "    </tr>\n",
       "  </tbody>\n",
       "</table>\n",
       "</div>"
      ],
      "text/plain": [
       "                   A         B         C         D  E\n",
       "2018-06-19  0.234911 -0.676922  0.360823  0.153287  1\n",
       "2018-06-20  0.498731  0.528086 -0.367213  1.403734  1\n",
       "2018-06-22  1.739656 -0.271450  0.982952  0.483135  5"
      ]
     },
     "execution_count": 59,
     "metadata": {},
     "output_type": "execute_result"
    }
   ],
   "source": [
    "df2[df2[\"E\"].isin([\"1\",\"5\"])]"
   ]
  },
  {
   "cell_type": "markdown",
   "metadata": {},
   "source": [
    "新しくカラムを代入により追加することもできる"
   ]
  },
  {
   "cell_type": "code",
   "execution_count": 65,
   "metadata": {
    "collapsed": true
   },
   "outputs": [],
   "source": [
    "a1 = pd.Series([1,2,3,4,5,6,],index=(pd.date_range(\"20180619\",periods=6)))"
   ]
  },
  {
   "cell_type": "code",
   "execution_count": 66,
   "metadata": {},
   "outputs": [
    {
     "data": {
      "text/plain": [
       "2018-06-19    1\n",
       "2018-06-20    2\n",
       "2018-06-21    3\n",
       "2018-06-22    4\n",
       "2018-06-23    5\n",
       "2018-06-24    6\n",
       "Freq: D, dtype: int64"
      ]
     },
     "execution_count": 66,
     "metadata": {},
     "output_type": "execute_result"
    }
   ],
   "source": [
    "a1 "
   ]
  },
  {
   "cell_type": "code",
   "execution_count": 67,
   "metadata": {},
   "outputs": [
    {
     "data": {
      "text/html": [
       "<div>\n",
       "<style>\n",
       "    .dataframe thead tr:only-child th {\n",
       "        text-align: right;\n",
       "    }\n",
       "\n",
       "    .dataframe thead th {\n",
       "        text-align: left;\n",
       "    }\n",
       "\n",
       "    .dataframe tbody tr th {\n",
       "        vertical-align: top;\n",
       "    }\n",
       "</style>\n",
       "<table border=\"1\" class=\"dataframe\">\n",
       "  <thead>\n",
       "    <tr style=\"text-align: right;\">\n",
       "      <th></th>\n",
       "      <th>A</th>\n",
       "      <th>B</th>\n",
       "      <th>C</th>\n",
       "      <th>D</th>\n",
       "      <th>E</th>\n",
       "    </tr>\n",
       "  </thead>\n",
       "  <tbody>\n",
       "    <tr>\n",
       "      <th>2018-06-19</th>\n",
       "      <td>0.234911</td>\n",
       "      <td>-0.676922</td>\n",
       "      <td>0.360823</td>\n",
       "      <td>0.153287</td>\n",
       "      <td>NaN</td>\n",
       "    </tr>\n",
       "    <tr>\n",
       "      <th>2018-06-20</th>\n",
       "      <td>0.498731</td>\n",
       "      <td>0.528086</td>\n",
       "      <td>-0.367213</td>\n",
       "      <td>1.403734</td>\n",
       "      <td>NaN</td>\n",
       "    </tr>\n",
       "    <tr>\n",
       "      <th>2018-06-21</th>\n",
       "      <td>0.715894</td>\n",
       "      <td>-2.639517</td>\n",
       "      <td>-0.392039</td>\n",
       "      <td>0.284107</td>\n",
       "      <td>NaN</td>\n",
       "    </tr>\n",
       "    <tr>\n",
       "      <th>2018-06-22</th>\n",
       "      <td>1.739656</td>\n",
       "      <td>-0.271450</td>\n",
       "      <td>0.982952</td>\n",
       "      <td>0.483135</td>\n",
       "      <td>NaN</td>\n",
       "    </tr>\n",
       "    <tr>\n",
       "      <th>2018-06-23</th>\n",
       "      <td>-0.264658</td>\n",
       "      <td>0.393662</td>\n",
       "      <td>-1.309515</td>\n",
       "      <td>-1.254700</td>\n",
       "      <td>NaN</td>\n",
       "    </tr>\n",
       "    <tr>\n",
       "      <th>2018-06-24</th>\n",
       "      <td>0.880432</td>\n",
       "      <td>0.278362</td>\n",
       "      <td>1.929638</td>\n",
       "      <td>0.468512</td>\n",
       "      <td>NaN</td>\n",
       "    </tr>\n",
       "  </tbody>\n",
       "</table>\n",
       "</div>"
      ],
      "text/plain": [
       "                   A         B         C         D   E\n",
       "2018-06-19  0.234911 -0.676922  0.360823  0.153287 NaN\n",
       "2018-06-20  0.498731  0.528086 -0.367213  1.403734 NaN\n",
       "2018-06-21  0.715894 -2.639517 -0.392039  0.284107 NaN\n",
       "2018-06-22  1.739656 -0.271450  0.982952  0.483135 NaN\n",
       "2018-06-23 -0.264658  0.393662 -1.309515 -1.254700 NaN\n",
       "2018-06-24  0.880432  0.278362  1.929638  0.468512 NaN"
      ]
     },
     "execution_count": 67,
     "metadata": {},
     "output_type": "execute_result"
    }
   ],
   "source": [
    "df"
   ]
  },
  {
   "cell_type": "markdown",
   "metadata": {},
   "source": [
    "dfにシリーズのa1を代入してカラムを追加する"
   ]
  },
  {
   "cell_type": "code",
   "execution_count": 68,
   "metadata": {
    "collapsed": true
   },
   "outputs": [],
   "source": [
    "df[\"E\"] = a1"
   ]
  },
  {
   "cell_type": "code",
   "execution_count": 69,
   "metadata": {},
   "outputs": [
    {
     "data": {
      "text/html": [
       "<div>\n",
       "<style>\n",
       "    .dataframe thead tr:only-child th {\n",
       "        text-align: right;\n",
       "    }\n",
       "\n",
       "    .dataframe thead th {\n",
       "        text-align: left;\n",
       "    }\n",
       "\n",
       "    .dataframe tbody tr th {\n",
       "        vertical-align: top;\n",
       "    }\n",
       "</style>\n",
       "<table border=\"1\" class=\"dataframe\">\n",
       "  <thead>\n",
       "    <tr style=\"text-align: right;\">\n",
       "      <th></th>\n",
       "      <th>A</th>\n",
       "      <th>B</th>\n",
       "      <th>C</th>\n",
       "      <th>D</th>\n",
       "      <th>E</th>\n",
       "    </tr>\n",
       "  </thead>\n",
       "  <tbody>\n",
       "    <tr>\n",
       "      <th>2018-06-19</th>\n",
       "      <td>0.234911</td>\n",
       "      <td>-0.676922</td>\n",
       "      <td>0.360823</td>\n",
       "      <td>0.153287</td>\n",
       "      <td>1</td>\n",
       "    </tr>\n",
       "    <tr>\n",
       "      <th>2018-06-20</th>\n",
       "      <td>0.498731</td>\n",
       "      <td>0.528086</td>\n",
       "      <td>-0.367213</td>\n",
       "      <td>1.403734</td>\n",
       "      <td>2</td>\n",
       "    </tr>\n",
       "    <tr>\n",
       "      <th>2018-06-21</th>\n",
       "      <td>0.715894</td>\n",
       "      <td>-2.639517</td>\n",
       "      <td>-0.392039</td>\n",
       "      <td>0.284107</td>\n",
       "      <td>3</td>\n",
       "    </tr>\n",
       "    <tr>\n",
       "      <th>2018-06-22</th>\n",
       "      <td>1.739656</td>\n",
       "      <td>-0.271450</td>\n",
       "      <td>0.982952</td>\n",
       "      <td>0.483135</td>\n",
       "      <td>4</td>\n",
       "    </tr>\n",
       "    <tr>\n",
       "      <th>2018-06-23</th>\n",
       "      <td>-0.264658</td>\n",
       "      <td>0.393662</td>\n",
       "      <td>-1.309515</td>\n",
       "      <td>-1.254700</td>\n",
       "      <td>5</td>\n",
       "    </tr>\n",
       "    <tr>\n",
       "      <th>2018-06-24</th>\n",
       "      <td>0.880432</td>\n",
       "      <td>0.278362</td>\n",
       "      <td>1.929638</td>\n",
       "      <td>0.468512</td>\n",
       "      <td>6</td>\n",
       "    </tr>\n",
       "  </tbody>\n",
       "</table>\n",
       "</div>"
      ],
      "text/plain": [
       "                   A         B         C         D  E\n",
       "2018-06-19  0.234911 -0.676922  0.360823  0.153287  1\n",
       "2018-06-20  0.498731  0.528086 -0.367213  1.403734  2\n",
       "2018-06-21  0.715894 -2.639517 -0.392039  0.284107  3\n",
       "2018-06-22  1.739656 -0.271450  0.982952  0.483135  4\n",
       "2018-06-23 -0.264658  0.393662 -1.309515 -1.254700  5\n",
       "2018-06-24  0.880432  0.278362  1.929638  0.468512  6"
      ]
     },
     "execution_count": 69,
     "metadata": {},
     "output_type": "execute_result"
    }
   ],
   "source": [
    "df"
   ]
  },
  {
   "cell_type": "markdown",
   "metadata": {},
   "source": [
    "もちろん、インデックスにあったpd.date_rangeを指定しないとEにはNaNは入る"
   ]
  },
  {
   "cell_type": "markdown",
   "metadata": {},
   "source": [
    "入力されたデータを一行下げる"
   ]
  },
  {
   "cell_type": "code",
   "execution_count": 70,
   "metadata": {},
   "outputs": [
    {
     "data": {
      "text/html": [
       "<div>\n",
       "<style>\n",
       "    .dataframe thead tr:only-child th {\n",
       "        text-align: right;\n",
       "    }\n",
       "\n",
       "    .dataframe thead th {\n",
       "        text-align: left;\n",
       "    }\n",
       "\n",
       "    .dataframe tbody tr th {\n",
       "        vertical-align: top;\n",
       "    }\n",
       "</style>\n",
       "<table border=\"1\" class=\"dataframe\">\n",
       "  <thead>\n",
       "    <tr style=\"text-align: right;\">\n",
       "      <th></th>\n",
       "      <th>A</th>\n",
       "      <th>B</th>\n",
       "      <th>C</th>\n",
       "      <th>D</th>\n",
       "      <th>E</th>\n",
       "    </tr>\n",
       "  </thead>\n",
       "  <tbody>\n",
       "    <tr>\n",
       "      <th>2018-06-19</th>\n",
       "      <td>NaN</td>\n",
       "      <td>NaN</td>\n",
       "      <td>NaN</td>\n",
       "      <td>NaN</td>\n",
       "      <td>NaN</td>\n",
       "    </tr>\n",
       "    <tr>\n",
       "      <th>2018-06-20</th>\n",
       "      <td>0.234911</td>\n",
       "      <td>-0.676922</td>\n",
       "      <td>0.360823</td>\n",
       "      <td>0.153287</td>\n",
       "      <td>1.0</td>\n",
       "    </tr>\n",
       "    <tr>\n",
       "      <th>2018-06-21</th>\n",
       "      <td>0.498731</td>\n",
       "      <td>0.528086</td>\n",
       "      <td>-0.367213</td>\n",
       "      <td>1.403734</td>\n",
       "      <td>2.0</td>\n",
       "    </tr>\n",
       "    <tr>\n",
       "      <th>2018-06-22</th>\n",
       "      <td>0.715894</td>\n",
       "      <td>-2.639517</td>\n",
       "      <td>-0.392039</td>\n",
       "      <td>0.284107</td>\n",
       "      <td>3.0</td>\n",
       "    </tr>\n",
       "    <tr>\n",
       "      <th>2018-06-23</th>\n",
       "      <td>1.739656</td>\n",
       "      <td>-0.271450</td>\n",
       "      <td>0.982952</td>\n",
       "      <td>0.483135</td>\n",
       "      <td>4.0</td>\n",
       "    </tr>\n",
       "    <tr>\n",
       "      <th>2018-06-24</th>\n",
       "      <td>-0.264658</td>\n",
       "      <td>0.393662</td>\n",
       "      <td>-1.309515</td>\n",
       "      <td>-1.254700</td>\n",
       "      <td>5.0</td>\n",
       "    </tr>\n",
       "  </tbody>\n",
       "</table>\n",
       "</div>"
      ],
      "text/plain": [
       "                   A         B         C         D    E\n",
       "2018-06-19       NaN       NaN       NaN       NaN  NaN\n",
       "2018-06-20  0.234911 -0.676922  0.360823  0.153287  1.0\n",
       "2018-06-21  0.498731  0.528086 -0.367213  1.403734  2.0\n",
       "2018-06-22  0.715894 -2.639517 -0.392039  0.284107  3.0\n",
       "2018-06-23  1.739656 -0.271450  0.982952  0.483135  4.0\n",
       "2018-06-24 -0.264658  0.393662 -1.309515 -1.254700  5.0"
      ]
     },
     "execution_count": 70,
     "metadata": {},
     "output_type": "execute_result"
    }
   ],
   "source": [
    "df.shift(1)"
   ]
  },
  {
   "cell_type": "markdown",
   "metadata": {},
   "source": [
    "データフレームをくっつけたい場合(カラム追加ではなく)、pd.concatを利用する"
   ]
  },
  {
   "cell_type": "markdown",
   "metadata": {},
   "source": [
    "以下の配列を作る"
   ]
  },
  {
   "cell_type": "code",
   "execution_count": 72,
   "metadata": {},
   "outputs": [],
   "source": [
    "df3 = pd.DataFrame(np.random.randn(3,3))\n",
    "df4 = pd.DataFrame(np.random.randn(3,3))"
   ]
  },
  {
   "cell_type": "code",
   "execution_count": 73,
   "metadata": {},
   "outputs": [
    {
     "data": {
      "text/html": [
       "<div>\n",
       "<style>\n",
       "    .dataframe thead tr:only-child th {\n",
       "        text-align: right;\n",
       "    }\n",
       "\n",
       "    .dataframe thead th {\n",
       "        text-align: left;\n",
       "    }\n",
       "\n",
       "    .dataframe tbody tr th {\n",
       "        vertical-align: top;\n",
       "    }\n",
       "</style>\n",
       "<table border=\"1\" class=\"dataframe\">\n",
       "  <thead>\n",
       "    <tr style=\"text-align: right;\">\n",
       "      <th></th>\n",
       "      <th>0</th>\n",
       "      <th>1</th>\n",
       "      <th>2</th>\n",
       "    </tr>\n",
       "  </thead>\n",
       "  <tbody>\n",
       "    <tr>\n",
       "      <th>0</th>\n",
       "      <td>0.808543</td>\n",
       "      <td>0.866694</td>\n",
       "      <td>-0.099636</td>\n",
       "    </tr>\n",
       "    <tr>\n",
       "      <th>1</th>\n",
       "      <td>1.001879</td>\n",
       "      <td>1.147878</td>\n",
       "      <td>-1.577494</td>\n",
       "    </tr>\n",
       "    <tr>\n",
       "      <th>2</th>\n",
       "      <td>1.266702</td>\n",
       "      <td>-0.578436</td>\n",
       "      <td>0.405628</td>\n",
       "    </tr>\n",
       "  </tbody>\n",
       "</table>\n",
       "</div>"
      ],
      "text/plain": [
       "          0         1         2\n",
       "0  0.808543  0.866694 -0.099636\n",
       "1  1.001879  1.147878 -1.577494\n",
       "2  1.266702 -0.578436  0.405628"
      ]
     },
     "execution_count": 73,
     "metadata": {},
     "output_type": "execute_result"
    }
   ],
   "source": [
    "df3"
   ]
  },
  {
   "cell_type": "code",
   "execution_count": 74,
   "metadata": {},
   "outputs": [
    {
     "data": {
      "text/html": [
       "<div>\n",
       "<style>\n",
       "    .dataframe thead tr:only-child th {\n",
       "        text-align: right;\n",
       "    }\n",
       "\n",
       "    .dataframe thead th {\n",
       "        text-align: left;\n",
       "    }\n",
       "\n",
       "    .dataframe tbody tr th {\n",
       "        vertical-align: top;\n",
       "    }\n",
       "</style>\n",
       "<table border=\"1\" class=\"dataframe\">\n",
       "  <thead>\n",
       "    <tr style=\"text-align: right;\">\n",
       "      <th></th>\n",
       "      <th>0</th>\n",
       "      <th>1</th>\n",
       "      <th>2</th>\n",
       "    </tr>\n",
       "  </thead>\n",
       "  <tbody>\n",
       "    <tr>\n",
       "      <th>0</th>\n",
       "      <td>1.185044</td>\n",
       "      <td>-0.821831</td>\n",
       "      <td>1.847137</td>\n",
       "    </tr>\n",
       "    <tr>\n",
       "      <th>1</th>\n",
       "      <td>-0.047036</td>\n",
       "      <td>-0.610160</td>\n",
       "      <td>1.132871</td>\n",
       "    </tr>\n",
       "    <tr>\n",
       "      <th>2</th>\n",
       "      <td>-0.160287</td>\n",
       "      <td>0.930943</td>\n",
       "      <td>-1.601175</td>\n",
       "    </tr>\n",
       "  </tbody>\n",
       "</table>\n",
       "</div>"
      ],
      "text/plain": [
       "          0         1         2\n",
       "0  1.185044 -0.821831  1.847137\n",
       "1 -0.047036 -0.610160  1.132871\n",
       "2 -0.160287  0.930943 -1.601175"
      ]
     },
     "execution_count": 74,
     "metadata": {},
     "output_type": "execute_result"
    }
   ],
   "source": [
    "df4"
   ]
  },
  {
   "cell_type": "markdown",
   "metadata": {},
   "source": [
    "df3とdf4をくっつける"
   ]
  },
  {
   "cell_type": "code",
   "execution_count": 76,
   "metadata": {},
   "outputs": [
    {
     "data": {
      "text/html": [
       "<div>\n",
       "<style>\n",
       "    .dataframe thead tr:only-child th {\n",
       "        text-align: right;\n",
       "    }\n",
       "\n",
       "    .dataframe thead th {\n",
       "        text-align: left;\n",
       "    }\n",
       "\n",
       "    .dataframe tbody tr th {\n",
       "        vertical-align: top;\n",
       "    }\n",
       "</style>\n",
       "<table border=\"1\" class=\"dataframe\">\n",
       "  <thead>\n",
       "    <tr style=\"text-align: right;\">\n",
       "      <th></th>\n",
       "      <th>0</th>\n",
       "      <th>1</th>\n",
       "      <th>2</th>\n",
       "    </tr>\n",
       "  </thead>\n",
       "  <tbody>\n",
       "    <tr>\n",
       "      <th>0</th>\n",
       "      <td>0.808543</td>\n",
       "      <td>0.866694</td>\n",
       "      <td>-0.099636</td>\n",
       "    </tr>\n",
       "    <tr>\n",
       "      <th>1</th>\n",
       "      <td>1.001879</td>\n",
       "      <td>1.147878</td>\n",
       "      <td>-1.577494</td>\n",
       "    </tr>\n",
       "    <tr>\n",
       "      <th>2</th>\n",
       "      <td>1.266702</td>\n",
       "      <td>-0.578436</td>\n",
       "      <td>0.405628</td>\n",
       "    </tr>\n",
       "    <tr>\n",
       "      <th>0</th>\n",
       "      <td>1.185044</td>\n",
       "      <td>-0.821831</td>\n",
       "      <td>1.847137</td>\n",
       "    </tr>\n",
       "    <tr>\n",
       "      <th>1</th>\n",
       "      <td>-0.047036</td>\n",
       "      <td>-0.610160</td>\n",
       "      <td>1.132871</td>\n",
       "    </tr>\n",
       "    <tr>\n",
       "      <th>2</th>\n",
       "      <td>-0.160287</td>\n",
       "      <td>0.930943</td>\n",
       "      <td>-1.601175</td>\n",
       "    </tr>\n",
       "  </tbody>\n",
       "</table>\n",
       "</div>"
      ],
      "text/plain": [
       "          0         1         2\n",
       "0  0.808543  0.866694 -0.099636\n",
       "1  1.001879  1.147878 -1.577494\n",
       "2  1.266702 -0.578436  0.405628\n",
       "0  1.185044 -0.821831  1.847137\n",
       "1 -0.047036 -0.610160  1.132871\n",
       "2 -0.160287  0.930943 -1.601175"
      ]
     },
     "execution_count": 76,
     "metadata": {},
     "output_type": "execute_result"
    }
   ],
   "source": [
    "pd.concat([df3,df4])"
   ]
  },
  {
   "cell_type": "markdown",
   "metadata": {},
   "source": [
    "最下段の行に新しく行を挿入する"
   ]
  },
  {
   "cell_type": "code",
   "execution_count": 80,
   "metadata": {},
   "outputs": [],
   "source": [
    "df5 = pd.DataFrame(np.random.rand(8,4),columns=[\"A\",\"B\",\"C\",\"D\"])"
   ]
  },
  {
   "cell_type": "code",
   "execution_count": 81,
   "metadata": {},
   "outputs": [
    {
     "data": {
      "text/html": [
       "<div>\n",
       "<style>\n",
       "    .dataframe thead tr:only-child th {\n",
       "        text-align: right;\n",
       "    }\n",
       "\n",
       "    .dataframe thead th {\n",
       "        text-align: left;\n",
       "    }\n",
       "\n",
       "    .dataframe tbody tr th {\n",
       "        vertical-align: top;\n",
       "    }\n",
       "</style>\n",
       "<table border=\"1\" class=\"dataframe\">\n",
       "  <thead>\n",
       "    <tr style=\"text-align: right;\">\n",
       "      <th></th>\n",
       "      <th>A</th>\n",
       "      <th>B</th>\n",
       "      <th>C</th>\n",
       "      <th>D</th>\n",
       "    </tr>\n",
       "  </thead>\n",
       "  <tbody>\n",
       "    <tr>\n",
       "      <th>0</th>\n",
       "      <td>0.640548</td>\n",
       "      <td>0.573252</td>\n",
       "      <td>0.244591</td>\n",
       "      <td>0.828008</td>\n",
       "    </tr>\n",
       "    <tr>\n",
       "      <th>1</th>\n",
       "      <td>0.157486</td>\n",
       "      <td>0.318270</td>\n",
       "      <td>0.784087</td>\n",
       "      <td>0.481458</td>\n",
       "    </tr>\n",
       "    <tr>\n",
       "      <th>2</th>\n",
       "      <td>0.095788</td>\n",
       "      <td>0.409031</td>\n",
       "      <td>0.266869</td>\n",
       "      <td>0.646802</td>\n",
       "    </tr>\n",
       "    <tr>\n",
       "      <th>3</th>\n",
       "      <td>0.769769</td>\n",
       "      <td>0.269215</td>\n",
       "      <td>0.600135</td>\n",
       "      <td>0.005683</td>\n",
       "    </tr>\n",
       "    <tr>\n",
       "      <th>4</th>\n",
       "      <td>0.488254</td>\n",
       "      <td>0.332897</td>\n",
       "      <td>0.035993</td>\n",
       "      <td>0.018667</td>\n",
       "    </tr>\n",
       "    <tr>\n",
       "      <th>5</th>\n",
       "      <td>0.024895</td>\n",
       "      <td>0.158789</td>\n",
       "      <td>0.806017</td>\n",
       "      <td>0.719154</td>\n",
       "    </tr>\n",
       "    <tr>\n",
       "      <th>6</th>\n",
       "      <td>0.736921</td>\n",
       "      <td>0.887603</td>\n",
       "      <td>0.337758</td>\n",
       "      <td>0.123322</td>\n",
       "    </tr>\n",
       "    <tr>\n",
       "      <th>7</th>\n",
       "      <td>0.171928</td>\n",
       "      <td>0.981033</td>\n",
       "      <td>0.266511</td>\n",
       "      <td>0.529223</td>\n",
       "    </tr>\n",
       "  </tbody>\n",
       "</table>\n",
       "</div>"
      ],
      "text/plain": [
       "          A         B         C         D\n",
       "0  0.640548  0.573252  0.244591  0.828008\n",
       "1  0.157486  0.318270  0.784087  0.481458\n",
       "2  0.095788  0.409031  0.266869  0.646802\n",
       "3  0.769769  0.269215  0.600135  0.005683\n",
       "4  0.488254  0.332897  0.035993  0.018667\n",
       "5  0.024895  0.158789  0.806017  0.719154\n",
       "6  0.736921  0.887603  0.337758  0.123322\n",
       "7  0.171928  0.981033  0.266511  0.529223"
      ]
     },
     "execution_count": 81,
     "metadata": {},
     "output_type": "execute_result"
    }
   ],
   "source": [
    "df5"
   ]
  },
  {
   "cell_type": "markdown",
   "metadata": {},
   "source": [
    "最上段の行を取り出し、最下段に挿入する"
   ]
  },
  {
   "cell_type": "code",
   "execution_count": 83,
   "metadata": {},
   "outputs": [
    {
     "data": {
      "text/plain": [
       "A    0.640548\n",
       "B    0.573252\n",
       "C    0.244591\n",
       "D    0.828008\n",
       "Name: 0, dtype: float64"
      ]
     },
     "execution_count": 83,
     "metadata": {},
     "output_type": "execute_result"
    }
   ],
   "source": [
    "a = df5.iloc[0]\n",
    "a"
   ]
  },
  {
   "cell_type": "code",
   "execution_count": 84,
   "metadata": {},
   "outputs": [
    {
     "data": {
      "text/html": [
       "<div>\n",
       "<style>\n",
       "    .dataframe thead tr:only-child th {\n",
       "        text-align: right;\n",
       "    }\n",
       "\n",
       "    .dataframe thead th {\n",
       "        text-align: left;\n",
       "    }\n",
       "\n",
       "    .dataframe tbody tr th {\n",
       "        vertical-align: top;\n",
       "    }\n",
       "</style>\n",
       "<table border=\"1\" class=\"dataframe\">\n",
       "  <thead>\n",
       "    <tr style=\"text-align: right;\">\n",
       "      <th></th>\n",
       "      <th>A</th>\n",
       "      <th>B</th>\n",
       "      <th>C</th>\n",
       "      <th>D</th>\n",
       "    </tr>\n",
       "  </thead>\n",
       "  <tbody>\n",
       "    <tr>\n",
       "      <th>0</th>\n",
       "      <td>0.640548</td>\n",
       "      <td>0.573252</td>\n",
       "      <td>0.244591</td>\n",
       "      <td>0.828008</td>\n",
       "    </tr>\n",
       "    <tr>\n",
       "      <th>1</th>\n",
       "      <td>0.157486</td>\n",
       "      <td>0.318270</td>\n",
       "      <td>0.784087</td>\n",
       "      <td>0.481458</td>\n",
       "    </tr>\n",
       "    <tr>\n",
       "      <th>2</th>\n",
       "      <td>0.095788</td>\n",
       "      <td>0.409031</td>\n",
       "      <td>0.266869</td>\n",
       "      <td>0.646802</td>\n",
       "    </tr>\n",
       "    <tr>\n",
       "      <th>3</th>\n",
       "      <td>0.769769</td>\n",
       "      <td>0.269215</td>\n",
       "      <td>0.600135</td>\n",
       "      <td>0.005683</td>\n",
       "    </tr>\n",
       "    <tr>\n",
       "      <th>4</th>\n",
       "      <td>0.488254</td>\n",
       "      <td>0.332897</td>\n",
       "      <td>0.035993</td>\n",
       "      <td>0.018667</td>\n",
       "    </tr>\n",
       "    <tr>\n",
       "      <th>5</th>\n",
       "      <td>0.024895</td>\n",
       "      <td>0.158789</td>\n",
       "      <td>0.806017</td>\n",
       "      <td>0.719154</td>\n",
       "    </tr>\n",
       "    <tr>\n",
       "      <th>6</th>\n",
       "      <td>0.736921</td>\n",
       "      <td>0.887603</td>\n",
       "      <td>0.337758</td>\n",
       "      <td>0.123322</td>\n",
       "    </tr>\n",
       "    <tr>\n",
       "      <th>7</th>\n",
       "      <td>0.171928</td>\n",
       "      <td>0.981033</td>\n",
       "      <td>0.266511</td>\n",
       "      <td>0.529223</td>\n",
       "    </tr>\n",
       "    <tr>\n",
       "      <th>0</th>\n",
       "      <td>0.640548</td>\n",
       "      <td>0.573252</td>\n",
       "      <td>0.244591</td>\n",
       "      <td>0.828008</td>\n",
       "    </tr>\n",
       "  </tbody>\n",
       "</table>\n",
       "</div>"
      ],
      "text/plain": [
       "          A         B         C         D\n",
       "0  0.640548  0.573252  0.244591  0.828008\n",
       "1  0.157486  0.318270  0.784087  0.481458\n",
       "2  0.095788  0.409031  0.266869  0.646802\n",
       "3  0.769769  0.269215  0.600135  0.005683\n",
       "4  0.488254  0.332897  0.035993  0.018667\n",
       "5  0.024895  0.158789  0.806017  0.719154\n",
       "6  0.736921  0.887603  0.337758  0.123322\n",
       "7  0.171928  0.981033  0.266511  0.529223\n",
       "0  0.640548  0.573252  0.244591  0.828008"
      ]
     },
     "execution_count": 84,
     "metadata": {},
     "output_type": "execute_result"
    }
   ],
   "source": [
    "df5.append(a)"
   ]
  },
  {
   "cell_type": "markdown",
   "metadata": {},
   "source": [
    "0行目と8行目が同じものであることが分かる"
   ]
  },
  {
   "cell_type": "markdown",
   "metadata": {},
   "source": [
    "appendをする際に、引数でignore_index=Trueを指定すると、インデックスの番号が連番となる"
   ]
  },
  {
   "cell_type": "code",
   "execution_count": 85,
   "metadata": {},
   "outputs": [
    {
     "data": {
      "text/html": [
       "<div>\n",
       "<style>\n",
       "    .dataframe thead tr:only-child th {\n",
       "        text-align: right;\n",
       "    }\n",
       "\n",
       "    .dataframe thead th {\n",
       "        text-align: left;\n",
       "    }\n",
       "\n",
       "    .dataframe tbody tr th {\n",
       "        vertical-align: top;\n",
       "    }\n",
       "</style>\n",
       "<table border=\"1\" class=\"dataframe\">\n",
       "  <thead>\n",
       "    <tr style=\"text-align: right;\">\n",
       "      <th></th>\n",
       "      <th>A</th>\n",
       "      <th>B</th>\n",
       "      <th>C</th>\n",
       "      <th>D</th>\n",
       "    </tr>\n",
       "  </thead>\n",
       "  <tbody>\n",
       "    <tr>\n",
       "      <th>0</th>\n",
       "      <td>0.640548</td>\n",
       "      <td>0.573252</td>\n",
       "      <td>0.244591</td>\n",
       "      <td>0.828008</td>\n",
       "    </tr>\n",
       "    <tr>\n",
       "      <th>1</th>\n",
       "      <td>0.157486</td>\n",
       "      <td>0.318270</td>\n",
       "      <td>0.784087</td>\n",
       "      <td>0.481458</td>\n",
       "    </tr>\n",
       "    <tr>\n",
       "      <th>2</th>\n",
       "      <td>0.095788</td>\n",
       "      <td>0.409031</td>\n",
       "      <td>0.266869</td>\n",
       "      <td>0.646802</td>\n",
       "    </tr>\n",
       "    <tr>\n",
       "      <th>3</th>\n",
       "      <td>0.769769</td>\n",
       "      <td>0.269215</td>\n",
       "      <td>0.600135</td>\n",
       "      <td>0.005683</td>\n",
       "    </tr>\n",
       "    <tr>\n",
       "      <th>4</th>\n",
       "      <td>0.488254</td>\n",
       "      <td>0.332897</td>\n",
       "      <td>0.035993</td>\n",
       "      <td>0.018667</td>\n",
       "    </tr>\n",
       "    <tr>\n",
       "      <th>5</th>\n",
       "      <td>0.024895</td>\n",
       "      <td>0.158789</td>\n",
       "      <td>0.806017</td>\n",
       "      <td>0.719154</td>\n",
       "    </tr>\n",
       "    <tr>\n",
       "      <th>6</th>\n",
       "      <td>0.736921</td>\n",
       "      <td>0.887603</td>\n",
       "      <td>0.337758</td>\n",
       "      <td>0.123322</td>\n",
       "    </tr>\n",
       "    <tr>\n",
       "      <th>7</th>\n",
       "      <td>0.171928</td>\n",
       "      <td>0.981033</td>\n",
       "      <td>0.266511</td>\n",
       "      <td>0.529223</td>\n",
       "    </tr>\n",
       "    <tr>\n",
       "      <th>8</th>\n",
       "      <td>0.640548</td>\n",
       "      <td>0.573252</td>\n",
       "      <td>0.244591</td>\n",
       "      <td>0.828008</td>\n",
       "    </tr>\n",
       "  </tbody>\n",
       "</table>\n",
       "</div>"
      ],
      "text/plain": [
       "          A         B         C         D\n",
       "0  0.640548  0.573252  0.244591  0.828008\n",
       "1  0.157486  0.318270  0.784087  0.481458\n",
       "2  0.095788  0.409031  0.266869  0.646802\n",
       "3  0.769769  0.269215  0.600135  0.005683\n",
       "4  0.488254  0.332897  0.035993  0.018667\n",
       "5  0.024895  0.158789  0.806017  0.719154\n",
       "6  0.736921  0.887603  0.337758  0.123322\n",
       "7  0.171928  0.981033  0.266511  0.529223\n",
       "8  0.640548  0.573252  0.244591  0.828008"
      ]
     },
     "execution_count": 85,
     "metadata": {},
     "output_type": "execute_result"
    }
   ],
   "source": [
    "df5.append(a,ignore_index=True)"
   ]
  },
  {
   "cell_type": "markdown",
   "metadata": {},
   "source": [
    "グルーピングもできる"
   ]
  },
  {
   "cell_type": "markdown",
   "metadata": {},
   "source": [
    "以下の配列を作る"
   ]
  },
  {
   "cell_type": "code",
   "execution_count": 94,
   "metadata": {},
   "outputs": [],
   "source": [
    "df6 = pd.DataFrame({\"A\":[\"a\",\"b\",\"a\",\"b\",\"a\"],\"B\":np.random.rand(5)})"
   ]
  },
  {
   "cell_type": "code",
   "execution_count": 95,
   "metadata": {},
   "outputs": [
    {
     "data": {
      "text/html": [
       "<div>\n",
       "<style>\n",
       "    .dataframe thead tr:only-child th {\n",
       "        text-align: right;\n",
       "    }\n",
       "\n",
       "    .dataframe thead th {\n",
       "        text-align: left;\n",
       "    }\n",
       "\n",
       "    .dataframe tbody tr th {\n",
       "        vertical-align: top;\n",
       "    }\n",
       "</style>\n",
       "<table border=\"1\" class=\"dataframe\">\n",
       "  <thead>\n",
       "    <tr style=\"text-align: right;\">\n",
       "      <th></th>\n",
       "      <th>A</th>\n",
       "      <th>B</th>\n",
       "    </tr>\n",
       "  </thead>\n",
       "  <tbody>\n",
       "    <tr>\n",
       "      <th>0</th>\n",
       "      <td>a</td>\n",
       "      <td>0.134023</td>\n",
       "    </tr>\n",
       "    <tr>\n",
       "      <th>1</th>\n",
       "      <td>b</td>\n",
       "      <td>0.514572</td>\n",
       "    </tr>\n",
       "    <tr>\n",
       "      <th>2</th>\n",
       "      <td>a</td>\n",
       "      <td>0.054307</td>\n",
       "    </tr>\n",
       "    <tr>\n",
       "      <th>3</th>\n",
       "      <td>b</td>\n",
       "      <td>0.439922</td>\n",
       "    </tr>\n",
       "    <tr>\n",
       "      <th>4</th>\n",
       "      <td>a</td>\n",
       "      <td>0.433676</td>\n",
       "    </tr>\n",
       "  </tbody>\n",
       "</table>\n",
       "</div>"
      ],
      "text/plain": [
       "   A         B\n",
       "0  a  0.134023\n",
       "1  b  0.514572\n",
       "2  a  0.054307\n",
       "3  b  0.439922\n",
       "4  a  0.433676"
      ]
     },
     "execution_count": 95,
     "metadata": {},
     "output_type": "execute_result"
    }
   ],
   "source": [
    "df6"
   ]
  },
  {
   "cell_type": "markdown",
   "metadata": {},
   "source": [
    "groupbyでグルーピングできる"
   ]
  },
  {
   "cell_type": "code",
   "execution_count": 99,
   "metadata": {},
   "outputs": [
    {
     "data": {
      "text/html": [
       "<div>\n",
       "<style>\n",
       "    .dataframe thead tr:only-child th {\n",
       "        text-align: right;\n",
       "    }\n",
       "\n",
       "    .dataframe thead th {\n",
       "        text-align: left;\n",
       "    }\n",
       "\n",
       "    .dataframe tbody tr th {\n",
       "        vertical-align: top;\n",
       "    }\n",
       "</style>\n",
       "<table border=\"1\" class=\"dataframe\">\n",
       "  <thead>\n",
       "    <tr style=\"text-align: right;\">\n",
       "      <th></th>\n",
       "      <th>B</th>\n",
       "    </tr>\n",
       "    <tr>\n",
       "      <th>A</th>\n",
       "      <th></th>\n",
       "    </tr>\n",
       "  </thead>\n",
       "  <tbody>\n",
       "    <tr>\n",
       "      <th>a</th>\n",
       "      <td>0.622006</td>\n",
       "    </tr>\n",
       "    <tr>\n",
       "      <th>b</th>\n",
       "      <td>0.954495</td>\n",
       "    </tr>\n",
       "  </tbody>\n",
       "</table>\n",
       "</div>"
      ],
      "text/plain": [
       "          B\n",
       "A          \n",
       "a  0.622006\n",
       "b  0.954495"
      ]
     },
     "execution_count": 99,
     "metadata": {},
     "output_type": "execute_result"
    }
   ],
   "source": [
    "df6.groupby(\"A\").sum()"
   ]
  },
  {
   "cell_type": "code",
   "execution_count": 100,
   "metadata": {
    "collapsed": true
   },
   "outputs": [],
   "source": [
    "#pip install pandas_datareader"
   ]
  },
  {
   "cell_type": "code",
   "execution_count": null,
   "metadata": {
    "collapsed": true
   },
   "outputs": [],
   "source": [
    "#import pandas_datareader\n",
    "\n",
    "#dataframe = pandas_datareader.data.DataReader(arg1,arg3,arg3,)"
   ]
  }
 ],
 "metadata": {
  "kernelspec": {
   "display_name": "Python 3",
   "language": "python",
   "name": "python3"
  },
  "language_info": {
   "codemirror_mode": {
    "name": "ipython",
    "version": 3
   },
   "file_extension": ".py",
   "mimetype": "text/x-python",
   "name": "python",
   "nbconvert_exporter": "python",
   "pygments_lexer": "ipython3",
   "version": "3.6.3"
  }
 },
 "nbformat": 4,
 "nbformat_minor": 2
}
