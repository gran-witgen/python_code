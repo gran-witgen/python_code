{
 "cells": [
  {
   "cell_type": "markdown",
   "metadata": {},
   "source": [
    "xmlとjson"
   ]
  },
  {
   "cell_type": "markdown",
   "metadata": {},
   "source": [
    "xml"
   ]
  },
  {
   "cell_type": "markdown",
   "metadata": {},
   "source": [
    "```xml\n",
    "<?xml version=\"1.0\" encoding=\"utf-8\"?>\n",
    "<root>\n",
    "    <employee>\n",
    "        <employ>\n",
    "            <id>111</id>\n",
    "            <name>Mike</name>\n",
    "        </employ>\n",
    "        <employ>\n",
    "            <id>222</id>\n",
    "            <name>Nancy</name>\n",
    "        </employ>\n",
    "    </employee>\n",
    "</root>\n",
    "```"
   ]
  },
  {
   "cell_type": "markdown",
   "metadata": {},
   "source": [
    "json"
   ]
  },
  {
   "cell_type": "markdown",
   "metadata": {},
   "source": [
    "```json\n",
    "{\n",
    "    \"employee\":\n",
    "        [\n",
    "            {\"id\":111,\"name\":\"Mike\"},\n",
    "            {\"id\":222,\"name\":\"Nancy\"}\n",
    "        ]\n",
    "}\n",
    "```"
   ]
  },
  {
   "cell_type": "markdown",
   "metadata": {},
   "source": [
    "xmlから説明していく"
   ]
  },
  {
   "cell_type": "code",
   "execution_count": 7,
   "metadata": {},
   "outputs": [
    {
     "name": "stdout",
     "output_type": "stream",
     "text": [
      "id 111\n",
      "name Mike\n",
      "id 222\n",
      "name Nancy\n"
     ]
    }
   ],
   "source": [
    "import xml.etree.ElementTree as ET\n",
    "\n",
    "#create element object\n",
    "#このrootは、xmlファイルのrootの部分を作成した\n",
    "root = ET.Element(\"root\")\n",
    "\n",
    "#create tree object\n",
    "tree = ET.ElementTree(element=root)\n",
    "\n",
    "#ここから以下、root以下の情報を記載していく\n",
    "\n",
    "employee = ET.SubElement(root,\"employee\")\n",
    "\n",
    "employ = ET.SubElement(employee,\"employ\")\n",
    "employ_id = ET.SubElement(employ,\"id\")\n",
    "employ_name = ET.SubElement(employ,\"name\")\n",
    "\n",
    "#idの情報を記載する\n",
    "employ_id.text = \"111\"\n",
    "#nameの情報を記載する\n",
    "employ_name.text = \"Mike\"\n",
    "\n",
    "employ = ET.SubElement(employee,\"employ\")\n",
    "employ_id = ET.SubElement(employ,\"id\")\n",
    "employ_name = ET.SubElement(employ,\"name\")\n",
    "\n",
    "#idの情報を記載する\n",
    "employ_id.text = \"222\"\n",
    "#nameの情報を記載する\n",
    "employ_name.text = \"Nancy\"\n",
    "\n",
    "#上記をファイルへ書き出す\n",
    "#tree.write(file_name,encoding,xml_declaration=True)\n",
    "\n",
    "tree.write(\"test.xml\",encoding=\"utf-8\",xml_declaration=True)\n",
    "\n",
    "#ファイルを読み込む\n",
    "tree = ET.ElementTree(file=\"test.xml\")\n",
    "root = tree.getroot()\n",
    "\n",
    "#forで階層を深めて、tag情報を取得する\n",
    "for employee in root:\n",
    "    for employ in employee:\n",
    "        for person in employ:\n",
    "            print(person.tag, person.text)\n"
   ]
  },
  {
   "cell_type": "code",
   "execution_count": null,
   "metadata": {
    "collapsed": true
   },
   "outputs": [],
   "source": []
  }
 ],
 "metadata": {
  "kernelspec": {
   "display_name": "Python 3",
   "language": "python",
   "name": "python3"
  },
  "language_info": {
   "codemirror_mode": {
    "name": "ipython",
    "version": 3
   },
   "file_extension": ".py",
   "mimetype": "text/x-python",
   "name": "python",
   "nbconvert_exporter": "python",
   "pygments_lexer": "ipython3",
   "version": "3.6.3"
  }
 },
 "nbformat": 4,
 "nbformat_minor": 2
}
