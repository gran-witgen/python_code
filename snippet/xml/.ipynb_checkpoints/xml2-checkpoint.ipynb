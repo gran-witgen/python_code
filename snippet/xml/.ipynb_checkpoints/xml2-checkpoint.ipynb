{
 "cells": [
  {
   "cell_type": "markdown",
   "metadata": {},
   "source": [
    "xml"
   ]
  },
  {
   "cell_type": "markdown",
   "metadata": {},
   "source": [
    "```xml\n",
    "<?xml version=\"1.0\" encoding=\"utf-8\"?>\n",
    "<root>\n",
    "    <employee>\n",
    "        <employ>\n",
    "            <id>111</id>\n",
    "            <name>Mike</name>\n",
    "        </employ>\n",
    "        <employ>\n",
    "            <id>222</id>\n",
    "            <name>Nancy</name>\n",
    "        </employ>\n",
    "    </employee>\n",
    "</root>\n",
    "```"
   ]
  },
  {
   "cell_type": "markdown",
   "metadata": {},
   "source": [
    "xmlを利用する際は以下をインポートする"
   ]
  },
  {
   "cell_type": "code",
   "execution_count": 1,
   "metadata": {
    "collapsed": true
   },
   "outputs": [],
   "source": [
    "import xml.etree.ElementTree as ET"
   ]
  },
  {
   "cell_type": "markdown",
   "metadata": {},
   "source": [
    "Elementオブジェクトを作成する  \n",
    "このrootはxmlに記載のrootである"
   ]
  },
  {
   "cell_type": "code",
   "execution_count": 2,
   "metadata": {
    "collapsed": true
   },
   "outputs": [],
   "source": [
    "root = ET.Element(\"root\")"
   ]
  },
  {
   "cell_type": "markdown",
   "metadata": {},
   "source": [
    "ツリー構造を作る"
   ]
  },
  {
   "cell_type": "code",
   "execution_count": 3,
   "metadata": {
    "collapsed": true
   },
   "outputs": [],
   "source": [
    "tree = ET.ElementTree(element=root)"
   ]
  },
  {
   "cell_type": "markdown",
   "metadata": {},
   "source": [
    "ここから以下、root以下の情報を記載していく"
   ]
  },
  {
   "cell_type": "markdown",
   "metadata": {},
   "source": [
    "一個下の階層のエレメントを作成する"
   ]
  },
  {
   "cell_type": "code",
   "execution_count": 4,
   "metadata": {
    "collapsed": true
   },
   "outputs": [],
   "source": [
    "employee = ET.SubElement(root,\"employee\")"
   ]
  },
  {
   "cell_type": "markdown",
   "metadata": {},
   "source": [
    "同様に、さらに一個下の階層のエレメントを作成する"
   ]
  },
  {
   "cell_type": "code",
   "execution_count": 5,
   "metadata": {
    "collapsed": true
   },
   "outputs": [],
   "source": [
    "employ = ET.SubElement(employee,\"employ\")"
   ]
  },
  {
   "cell_type": "markdown",
   "metadata": {},
   "source": [
    "id,nameを入力する"
   ]
  },
  {
   "cell_type": "code",
   "execution_count": 7,
   "metadata": {
    "collapsed": true
   },
   "outputs": [],
   "source": [
    "employ_id = ET.SubElement(employ,\"id\")\n",
    "employ_name = ET.SubElement(employ,\"name\")\n",
    "employ_id.text = \"111\"\n",
    "employ_name.text = \"Mike\""
   ]
  },
  {
   "cell_type": "markdown",
   "metadata": {},
   "source": [
    "別のデータを入れたい場合、xmlの階層に従って記述すればよい"
   ]
  },
  {
   "cell_type": "code",
   "execution_count": 8,
   "metadata": {
    "collapsed": true
   },
   "outputs": [],
   "source": [
    "employ = ET.SubElement(employee,\"employ\")\n",
    "employ_id = ET.SubElement(employ,\"id\")\n",
    "employ_name = ET.SubElement(employ,\"name\")\n",
    "employ_id.text = \"222\"\n",
    "employ_name.text = \"Nancy\""
   ]
  },
  {
   "cell_type": "markdown",
   "metadata": {},
   "source": [
    "入力したデータを、別ファイルへ保存する  \n",
    "親の階層に対してwrite()を利用する  \n",
    "以下を行うと、カレントディレクトリにtest.xmlが作成される  \n",
    "xml_declaration=Trueと指定すると、test.xmlの先頭行にバージョンなどが記載される"
   ]
  },
  {
   "cell_type": "code",
   "execution_count": 9,
   "metadata": {
    "collapsed": true
   },
   "outputs": [],
   "source": [
    "tree.write(\"test.xml\",encoding=\"utf-8\",xml_declaration=True)"
   ]
  },
  {
   "cell_type": "markdown",
   "metadata": {},
   "source": [
    "xlmファイルを読み込む場合  \n",
    "ET.ElementTree()でファイルを指定する  \n",
    "Elementオブジェクトを作成したら、親の階層を取得する"
   ]
  },
  {
   "cell_type": "code",
   "execution_count": 11,
   "metadata": {},
   "outputs": [],
   "source": [
    "tree = ET.ElementTree(file=\"test.xml\")\n",
    "root = tree.getroot()"
   ]
  },
  {
   "cell_type": "markdown",
   "metadata": {},
   "source": [
    "深い階層にアクセスするにはforループを利用する"
   ]
  },
  {
   "cell_type": "code",
   "execution_count": 14,
   "metadata": {},
   "outputs": [
    {
     "name": "stdout",
     "output_type": "stream",
     "text": [
      "id 111\n",
      "name Mike\n",
      "id 222\n",
      "name Nancy\n"
     ]
    }
   ],
   "source": [
    "for employee in root:\n",
    "    for employ in employee:\n",
    "        for person in employ:\n",
    "            print(person.tag,person.text)"
   ]
  },
  {
   "cell_type": "markdown",
   "metadata": {},
   "source": [
    "idと入れたのに、tagで取得するのが不思議"
   ]
  }
 ],
 "metadata": {
  "kernelspec": {
   "display_name": "Python 3",
   "language": "python",
   "name": "python3"
  },
  "language_info": {
   "codemirror_mode": {
    "name": "ipython",
    "version": 3
   },
   "file_extension": ".py",
   "mimetype": "text/x-python",
   "name": "python",
   "nbconvert_exporter": "python",
   "pygments_lexer": "ipython3",
   "version": "3.6.3"
  }
 },
 "nbformat": 4,
 "nbformat_minor": 2
}
