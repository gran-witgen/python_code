{
 "cells": [
  {
   "cell_type": "code",
   "execution_count": 1,
   "metadata": {},
   "outputs": [
    {
     "data": {
      "text/plain": [
       "'\\n[DEFAULT]\\ndebug = False\\n\\n[web_server]\\nhost = 127.0.0.1\\nport = 80\\n\\n[db_server]\\nhost = 127.0.01\\nport = 3306\\n'"
      ]
     },
     "execution_count": 1,
     "metadata": {},
     "output_type": "execute_result"
    }
   ],
   "source": [
    "#exmaple of config\n",
    "\"\"\"\n",
    "[DEFAULT]\n",
    "debug = False\n",
    "\n",
    "[web_server]\n",
    "host = 127.0.0.1\n",
    "port = 80\n",
    "\n",
    "[db_server]\n",
    "host = 127.0.01\n",
    "port = 3306\n",
    "\"\"\""
   ]
  },
  {
   "cell_type": "code",
   "execution_count": 5,
   "metadata": {
    "collapsed": true
   },
   "outputs": [],
   "source": [
    "import configparser\n",
    "\n",
    "#create object\n",
    "config = configparser.ConfigParser()\n",
    "\n",
    "#上記の設定を行う\n",
    "config[\"DEFAULT\"] = {\n",
    "    \"debug\":True\n",
    "}\n",
    "\n",
    "config[\"web_server\"] = {\n",
    "    \"host\":\"127.0.0.1\",\n",
    "    \"port\":80\n",
    "}\n",
    "\n",
    "config[\"db_server\"] = {\n",
    "    \"host\":\"127.0.0.1\",\n",
    "    \"port\":3306\n",
    "}\n",
    "\n",
    "#この設定をファイルとして書き込む\n",
    "with open(\"config.ini\",\"w\") as config_file:\n",
    "    config.write(config_file) #config.iniを作成"
   ]
  },
  {
   "cell_type": "markdown",
   "metadata": {},
   "source": [
    "config.iniを読み込む場合"
   ]
  },
  {
   "cell_type": "code",
   "execution_count": 10,
   "metadata": {},
   "outputs": [
    {
     "name": "stdout",
     "output_type": "stream",
     "text": [
      "<Section: db_server>\n",
      "127.0.0.1\n",
      "--------------------\n",
      "<Section: web_server>\n",
      "80\n"
     ]
    }
   ],
   "source": [
    "import configparser\n",
    "\n",
    "config = configparser.ConfigParser()\n",
    "\n",
    "#read config.ini\n",
    "config.read(\"config.ini\")\n",
    "\n",
    "#show config\n",
    "print(config[\"db_server\"])\n",
    "print(config[\"db_server\"][\"host\"])\n",
    "print(\"--------------------\")\n",
    "print(config[\"web_server\"])\n",
    "print(config[\"web_server\"][\"port\"])"
   ]
  }
 ],
 "metadata": {
  "kernelspec": {
   "display_name": "Python 3",
   "language": "python",
   "name": "python3"
  },
  "language_info": {
   "codemirror_mode": {
    "name": "ipython",
    "version": 3
   },
   "file_extension": ".py",
   "mimetype": "text/x-python",
   "name": "python",
   "nbconvert_exporter": "python",
   "pygments_lexer": "ipython3",
   "version": "3.6.3"
  }
 },
 "nbformat": 4,
 "nbformat_minor": 2
}
